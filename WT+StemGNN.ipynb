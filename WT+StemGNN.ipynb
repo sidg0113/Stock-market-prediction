{
  "cells": [
    {
      "cell_type": "markdown",
      "source": [
        "Modification in forecast_dataloader.py- dont run"
      ],
      "metadata": {
        "id": "2Dazqpa8L6Hi"
      }
    },
    {
      "cell_type": "code",
      "source": [
        "import torch.utils.data as torch_data\n",
        "import numpy as np\n",
        "import torch\n",
        "import pandas as pd\n",
        "\n",
        "\n",
        "def normalized(data, normalize_method, norm_statistic=None):\n",
        "    if normalize_method == 'min_max':\n",
        "        if not norm_statistic:\n",
        "            norm_statistic = dict(max=np.max(data, axis=0), min=np.min(data, axis=0))\n",
        "        scale = norm_statistic['max'] - norm_statistic['min'] + 1e-5\n",
        "        data = (data - norm_statistic['min']) / scale\n",
        "        data = np.clip(data, 0.0, 1.0)\n",
        "    elif normalize_method == 'z_score':\n",
        "        if not norm_statistic:\n",
        "            norm_statistic = dict(mean=np.mean(data, axis=0), std=np.std(data, axis=0))\n",
        "        mean = norm_statistic['mean']\n",
        "        std = norm_statistic['std']\n",
        "        std = [1 if i == 0 else i for i in std]\n",
        "        data = (data - mean) / std\n",
        "        norm_statistic['std'] = std\n",
        "    return data, norm_statistic\n",
        "\n",
        "\n",
        "def de_normalized(data, normalize_method, norm_statistic):\n",
        "    if normalize_method == 'min_max':\n",
        "        if not norm_statistic:\n",
        "            norm_statistic = dict(max=np.max(data, axis=0), min=np.min(data, axis=0))\n",
        "        scale = norm_statistic['max'] - norm_statistic['min'] + 1e-8\n",
        "        data = data * scale + norm_statistic['min']\n",
        "    elif normalize_method == 'z_score':\n",
        "        if not norm_statistic:\n",
        "            norm_statistic = dict(mean=np.mean(data, axis=0), std=np.std(data, axis=0))\n",
        "        mean = norm_statistic['mean']\n",
        "        std = norm_statistic['std']\n",
        "        std = [1 if i == 0 else i for i in std]\n",
        "        data = data * std + mean\n",
        "    return data\n",
        "\n",
        "\n",
        "class ForecastDataset(torch_data.Dataset):\n",
        "    def __init__(self, df, window_size, horizon, normalize_method=None, norm_statistic=None, interval=1):\n",
        "        self.window_size = window_size\n",
        "        self.interval = interval\n",
        "        self.horizon = horizon\n",
        "        self.normalize_method = normalize_method\n",
        "        self.norm_statistic = norm_statistic\n",
        "        df = pd.DataFrame(df)\n",
        "        df = df.fillna(method='ffill', limit=len(df)).fillna(method='bfill', limit=len(df)).values\n",
        "        self.data = df\n",
        "        self.df_length = len(df)\n",
        "        self.x_end_idx = self.get_x_end_idx()\n",
        "        if normalize_method:\n",
        "            self.data, _ = normalized(self.data, normalize_method, norm_statistic)\n",
        "\n",
        "    def __getitem__(self, index):\n",
        "        hi = self.x_end_idx[index]\n",
        "        lo = hi - self.window_size\n",
        "        train_data = self.data[lo: hi]\n",
        "        target_data = self.data[hi:hi + self.horizon]\n",
        "        # print(train_data.shape)\n",
        "        m=[]\n",
        "        M=[]\n",
        "        S=[]\n",
        "        for i in range(train_data.shape[1]):\n",
        "          a=np.max(train_data[:,i])\n",
        "          b=np.min(train_data[:,i])\n",
        "          c=np.sum(train_data[:,i])\n",
        "          m.append(b)\n",
        "          M.append(a)\n",
        "          S.append(c)\n",
        "        train_data=np.vstack([train_data,[m],[M],[S]])\n",
        "        x = torch.from_numpy(train_data).type(torch.float)\n",
        "        y = torch.from_numpy(target_data).type(torch.float)\n",
        "        return x, y\n",
        "\n",
        "    def __len__(self):\n",
        "        return len(self.x_end_idx)\n",
        "\n",
        "    def get_x_end_idx(self):\n",
        "        # each element `hi` in `x_index_set` is an upper bound for get training data\n",
        "        # training data range: [lo, hi), lo = hi - window_size\n",
        "        x_index_set = range(self.window_size, self.df_length - self.horizon + 1)\n",
        "        x_end_idx = [x_index_set[j * self.interval] for j in range((len(x_index_set)) // self.interval)]\n",
        "        return x_end_idx\n",
        "\n"
      ],
      "metadata": {
        "id": "MCDmBNEbL0qP"
      },
      "execution_count": null,
      "outputs": []
    },
    {
      "cell_type": "markdown",
      "source": [
        "Modification in handler.py - dont run"
      ],
      "metadata": {
        "id": "sMkLvb68L1bt"
      }
    },
    {
      "cell_type": "code",
      "source": [
        "import json\n",
        "from datetime import datetime\n",
        "\n",
        "from data_loader.forecast_dataloader import ForecastDataset, de_normalized\n",
        "from models.base_model import Model\n",
        "import torch\n",
        "import torch.nn as nn\n",
        "import torch.utils.data as torch_data\n",
        "import numpy as np\n",
        "import time\n",
        "import os\n",
        "\n",
        "from utils.math_utils import evaluate\n",
        "\n",
        "\n",
        "def save_model(model, model_dir, epoch=None):\n",
        "    if model_dir is None:\n",
        "        return\n",
        "    if not os.path.exists(model_dir):\n",
        "        os.makedirs(model_dir)\n",
        "    epoch = str(epoch) if epoch else ''\n",
        "    file_name = os.path.join(model_dir, epoch + '_stemgnn.pt')\n",
        "    with open(file_name, 'wb') as f:\n",
        "        torch.save(model, f)\n",
        "\n",
        "\n",
        "def load_model(model_dir, epoch=None):\n",
        "    if not model_dir:\n",
        "        return\n",
        "    epoch = str(epoch) if epoch else ''\n",
        "    file_name = os.path.join(model_dir, epoch + '_stemgnn.pt')\n",
        "    if not os.path.exists(model_dir):\n",
        "        os.makedirs(model_dir)\n",
        "    if not os.path.exists(file_name):\n",
        "        return\n",
        "    with open(file_name, 'rb') as f:\n",
        "        model = torch.load(f)\n",
        "    return model\n",
        "\n",
        "\n",
        "def inference(model, dataloader, device, node_cnt, window_size, horizon):\n",
        "    forecast_set = []\n",
        "    target_set = []\n",
        "    model.eval()\n",
        "    with torch.no_grad():\n",
        "        for i, (inputs, target) in enumerate(dataloader):\n",
        "            inputs = inputs.to(device)\n",
        "            target = target.to(device)\n",
        "            step = 0\n",
        "            forecast_steps = np.zeros([inputs.size()[0], horizon, node_cnt], dtype=np.float)\n",
        "            while step < horizon:\n",
        "                forecast_result, a = model(inputs)\n",
        "                len_model_output = forecast_result.size()[1]\n",
        "                if len_model_output == 0:\n",
        "                    raise Exception('Get blank inference result')\n",
        "                inputs[:, :window_size - len_model_output, :] = inputs[:, len_model_output:window_size,\n",
        "                                                                   :].clone()\n",
        "                inputs[:, window_size - len_model_output:, :] = forecast_result.clone()\n",
        "                forecast_steps[:, step:min(horizon - step, len_model_output) + step, :] = \\\n",
        "                    forecast_result[:, :min(horizon - step, len_model_output), :].detach().cpu().numpy()\n",
        "                step += min(horizon - step, len_model_output)\n",
        "            forecast_set.append(forecast_steps)\n",
        "            target_set.append(target.detach().cpu().numpy())\n",
        "    return np.concatenate(forecast_set, axis=0), np.concatenate(target_set, axis=0)\n",
        "\n",
        "\n",
        "def validate(model, dataloader, device, normalize_method, statistic,\n",
        "             node_cnt, window_size, horizon,\n",
        "             result_file=None):\n",
        "    start = datetime.now()\n",
        "    forecast_norm, target_norm = inference(model, dataloader, device,\n",
        "                                           node_cnt, window_size, horizon)\n",
        "    if normalize_method and statistic:\n",
        "        forecast = de_normalized(forecast_norm, normalize_method, statistic)\n",
        "        target = de_normalized(target_norm, normalize_method, statistic)\n",
        "    else:\n",
        "        forecast, target = forecast_norm, target_norm\n",
        "    score = evaluate(target, forecast)\n",
        "    score_by_node = evaluate(target, forecast, by_node=True)\n",
        "    end = datetime.now()\n",
        "\n",
        "    score_norm = evaluate(target_norm, forecast_norm)\n",
        "    print(f'NORM: MAPE {score_norm[0]:7.9%}; MAE {score_norm[1]:7.9f}; RMSE {score_norm[2]:7.9f}.')\n",
        "    print(f'RAW : MAPE {score[0]:7.9%}; MAE {score[1]:7.9f}; RMSE {score[2]:7.9f}.')\n",
        "    if result_file:\n",
        "        if not os.path.exists(result_file):\n",
        "            os.makedirs(result_file)\n",
        "        step_to_print = 0\n",
        "        forcasting_2d = forecast[:, step_to_print, :]\n",
        "        forcasting_2d_target = target[:, step_to_print, :]\n",
        "\n",
        "        np.savetxt(f'{result_file}/target.csv', forcasting_2d_target, delimiter=\",\")\n",
        "        np.savetxt(f'{result_file}/predict.csv', forcasting_2d, delimiter=\",\")\n",
        "        np.savetxt(f'{result_file}/predict_abs_error.csv',\n",
        "                   np.abs(forcasting_2d - forcasting_2d_target), delimiter=\",\")\n",
        "        np.savetxt(f'{result_file}/predict_ape.csv',\n",
        "                   np.abs((forcasting_2d - forcasting_2d_target) / forcasting_2d_target), delimiter=\",\")\n",
        "\n",
        "    return dict(mae=score[1], mae_node=score_by_node[1], mape=score[0], mape_node=score_by_node[0],\n",
        "                rmse=score[2], rmse_node=score_by_node[2])\n",
        "\n",
        "\n",
        "def train(train_data, valid_data, args, result_file):\n",
        "    node_cnt = train_data.shape[1]\n",
        "    model = Model(node_cnt, 2, args.window_size+3, args.multi_layer, horizon=args.horizon)\n",
        "    model.to(args.device)\n",
        "    if len(train_data) == 0:\n",
        "        raise Exception('Cannot organize enough training data')\n",
        "    if len(valid_data) == 0:\n",
        "        raise Exception('Cannot organize enough validation data')\n",
        "\n",
        "    if args.norm_method == 'z_score':\n",
        "        train_mean = np.mean(train_data, axis=0)\n",
        "        train_std = np.std(train_data, axis=0)\n",
        "        normalize_statistic = {\"mean\": train_mean.tolist(), \"std\": train_std.tolist()}\n",
        "    elif args.norm_method == 'min_max':\n",
        "        train_min = np.min(train_data, axis=0)\n",
        "        train_max = np.max(train_data, axis=0)\n",
        "        normalize_statistic = {\"min\": train_min.tolist(), \"max\": train_max.tolist()}\n",
        "    else:\n",
        "        normalize_statistic = None\n",
        "    if normalize_statistic is not None:\n",
        "        with open(os.path.join(result_file, 'norm_stat.json'), 'w') as f:\n",
        "            json.dump(normalize_statistic, f)\n",
        "\n",
        "    if args.optimizer == 'RMSProp':\n",
        "        my_optim = torch.optim.RMSprop(params=model.parameters(), lr=args.lr, eps=1e-08)\n",
        "    else:\n",
        "        my_optim = torch.optim.Adam(params=model.parameters(), lr=args.lr, betas=(0.9, 0.999))\n",
        "    my_lr_scheduler = torch.optim.lr_scheduler.ExponentialLR(optimizer=my_optim, gamma=args.decay_rate)\n",
        "\n",
        "    train_set = ForecastDataset(train_data, window_size=args.window_size, horizon=args.horizon,\n",
        "                                normalize_method=args.norm_method, norm_statistic=normalize_statistic)\n",
        "    valid_set = ForecastDataset(valid_data, window_size=args.window_size, horizon=args.horizon,\n",
        "                                normalize_method=args.norm_method, norm_statistic=normalize_statistic)\n",
        "    train_loader = torch_data.DataLoader(train_set, batch_size=args.batch_size, drop_last=False, shuffle=True,\n",
        "                                         num_workers=0)\n",
        "    valid_loader = torch_data.DataLoader(valid_set, batch_size=args.batch_size, shuffle=False, num_workers=0)\n",
        "\n",
        "    forecast_loss = nn.MSELoss(reduction='mean').to(args.device)\n",
        "\n",
        "    total_params = 0\n",
        "    for name, parameter in model.named_parameters():\n",
        "        if not parameter.requires_grad: continue\n",
        "        param = parameter.numel()\n",
        "        total_params += param\n",
        "    print(f\"Total Trainable Params: {total_params}\")\n",
        "\n",
        "    best_validate_mae = np.inf\n",
        "    validate_score_non_decrease_count = 0\n",
        "    performance_metrics = {}\n",
        "    for epoch in range(args.epoch):\n",
        "        epoch_start_time = time.time()\n",
        "        model.train()\n",
        "        loss_total = 0\n",
        "        cnt = 0\n",
        "        for i, (inputs, target) in enumerate(train_loader):\n",
        "            inputs = inputs.to(args.device)\n",
        "            target = target.to(args.device)\n",
        "            model.zero_grad()\n",
        "            forecast, _ = model(inputs)\n",
        "            loss = forecast_loss(forecast, target)\n",
        "            cnt += 1\n",
        "            loss.backward()\n",
        "            my_optim.step()\n",
        "            loss_total += float(loss)\n",
        "        print('| end of epoch {:3d} | time: {:5.2f}s | train_total_loss {:5.4f}'.format(epoch, (\n",
        "                time.time() - epoch_start_time), loss_total / cnt))\n",
        "        save_model(model, result_file, epoch)\n",
        "        if (epoch+1) % args.exponential_decay_step == 0:\n",
        "            my_lr_scheduler.step()\n",
        "        if (epoch + 1) % args.validate_freq == 0:\n",
        "            is_best_for_now = False\n",
        "            print('------ validate on data: VALIDATE ------')\n",
        "            performance_metrics = \\\n",
        "                validate(model, valid_loader, args.device, args.norm_method, normalize_statistic,\n",
        "                         node_cnt, args.window_size+3, args.horizon,\n",
        "                         result_file=result_file)\n",
        "            if best_validate_mae > performance_metrics['mae']:\n",
        "                best_validate_mae = performance_metrics['mae']\n",
        "                is_best_for_now = True\n",
        "                validate_score_non_decrease_count = 0\n",
        "            else:\n",
        "                validate_score_non_decrease_count += 1\n",
        "            # save model\n",
        "            if is_best_for_now:\n",
        "                save_model(model, result_file)\n",
        "        # early stop\n",
        "        if args.early_stop and validate_score_non_decrease_count >= args.early_stop_step:\n",
        "            break\n",
        "    return performance_metrics, normalize_statistic\n",
        "\n",
        "\n",
        "def test(test_data, args, result_train_file, result_test_file):\n",
        "    with open(os.path.join(result_train_file, 'norm_stat.json'),'r') as f:\n",
        "        normalize_statistic = json.load(f)\n",
        "    model = load_model(result_train_file)\n",
        "    node_cnt = test_data.shape[1]\n",
        "    test_set = ForecastDataset(test_data, window_size=args.window_size, horizon=args.horizon,\n",
        "                               normalize_method=args.norm_method, norm_statistic=normalize_statistic)\n",
        "    test_loader = torch_data.DataLoader(test_set, batch_size=args.batch_size, drop_last=False,\n",
        "                                        shuffle=False, num_workers=0)\n",
        "    performance_metrics = validate(model, test_loader, args.device, args.norm_method, normalize_statistic,\n",
        "                      node_cnt, args.window_size+3, args.horizon,\n",
        "                      result_file=result_test_file)\n",
        "    mae, mape, rmse = performance_metrics['mae'], performance_metrics['mape'], performance_metrics['rmse']\n",
        "    print('Performance on test set: MAPE: {:5.2f} | MAE: {:5.2f} | RMSE: {:5.4f}'.format(mape, mae, rmse))\n"
      ],
      "metadata": {
        "id": "7gv2THK1MH_Y"
      },
      "execution_count": null,
      "outputs": []
    },
    {
      "cell_type": "code",
      "execution_count": null,
      "metadata": {
        "id": "IOyY_Uh2ZJXa",
        "colab": {
          "base_uri": "https://localhost:8080/"
        },
        "outputId": "f205429f-174d-4448-c4d4-07228f68f882"
      },
      "outputs": [
        {
          "output_type": "stream",
          "name": "stdout",
          "text": [
            "Collecting yfinance\n",
            "  Downloading yfinance-0.1.70-py2.py3-none-any.whl (26 kB)\n",
            "Collecting requests>=2.26\n",
            "  Downloading requests-2.27.1-py2.py3-none-any.whl (63 kB)\n",
            "\u001b[K     |████████████████████████████████| 63 kB 1.2 MB/s \n",
            "\u001b[?25hRequirement already satisfied: pandas>=0.24.0 in /usr/local/lib/python3.7/dist-packages (from yfinance) (1.3.5)\n",
            "Requirement already satisfied: numpy>=1.15 in /usr/local/lib/python3.7/dist-packages (from yfinance) (1.21.6)\n",
            "Collecting lxml>=4.5.1\n",
            "  Downloading lxml-4.8.0-cp37-cp37m-manylinux_2_17_x86_64.manylinux2014_x86_64.manylinux_2_24_x86_64.whl (6.4 MB)\n",
            "\u001b[K     |████████████████████████████████| 6.4 MB 11.8 MB/s \n",
            "\u001b[?25hRequirement already satisfied: multitasking>=0.0.7 in /usr/local/lib/python3.7/dist-packages (from yfinance) (0.0.10)\n",
            "Requirement already satisfied: python-dateutil>=2.7.3 in /usr/local/lib/python3.7/dist-packages (from pandas>=0.24.0->yfinance) (2.8.2)\n",
            "Requirement already satisfied: pytz>=2017.3 in /usr/local/lib/python3.7/dist-packages (from pandas>=0.24.0->yfinance) (2022.1)\n",
            "Requirement already satisfied: six>=1.5 in /usr/local/lib/python3.7/dist-packages (from python-dateutil>=2.7.3->pandas>=0.24.0->yfinance) (1.15.0)\n",
            "Requirement already satisfied: idna<4,>=2.5 in /usr/local/lib/python3.7/dist-packages (from requests>=2.26->yfinance) (2.10)\n",
            "Requirement already satisfied: certifi>=2017.4.17 in /usr/local/lib/python3.7/dist-packages (from requests>=2.26->yfinance) (2021.10.8)\n",
            "Requirement already satisfied: charset-normalizer~=2.0.0 in /usr/local/lib/python3.7/dist-packages (from requests>=2.26->yfinance) (2.0.12)\n",
            "Requirement already satisfied: urllib3<1.27,>=1.21.1 in /usr/local/lib/python3.7/dist-packages (from requests>=2.26->yfinance) (1.24.3)\n",
            "Installing collected packages: requests, lxml, yfinance\n",
            "  Attempting uninstall: requests\n",
            "    Found existing installation: requests 2.23.0\n",
            "    Uninstalling requests-2.23.0:\n",
            "      Successfully uninstalled requests-2.23.0\n",
            "  Attempting uninstall: lxml\n",
            "    Found existing installation: lxml 4.2.6\n",
            "    Uninstalling lxml-4.2.6:\n",
            "      Successfully uninstalled lxml-4.2.6\n",
            "\u001b[31mERROR: pip's dependency resolver does not currently take into account all the packages that are installed. This behaviour is the source of the following dependency conflicts.\n",
            "google-colab 1.0.0 requires requests~=2.23.0, but you have requests 2.27.1 which is incompatible.\n",
            "datascience 0.10.6 requires folium==0.2.1, but you have folium 0.8.3 which is incompatible.\u001b[0m\n",
            "Successfully installed lxml-4.8.0 requests-2.27.1 yfinance-0.1.70\n"
          ]
        }
      ],
      "source": [
        "pip install yfinance"
      ]
    },
    {
      "cell_type": "code",
      "execution_count": null,
      "metadata": {
        "id": "wGSqA-45ZGyD",
        "colab": {
          "base_uri": "https://localhost:8080/"
        },
        "outputId": "2aee1a2a-d5f4-407b-92d6-de18dd6f36c7"
      },
      "outputs": [
        {
          "output_type": "stream",
          "name": "stderr",
          "text": [
            "/usr/local/lib/python3.7/dist-packages/statsmodels/tools/_testing.py:19: FutureWarning: pandas.util.testing is deprecated. Use the functions in the public API at pandas.testing instead.\n",
            "  import pandas.util.testing as tm\n",
            "/usr/local/lib/python3.7/dist-packages/ipykernel_launcher.py:6: FutureWarning: The pandas.datetime class is deprecated and will be removed from pandas in a future version. Import from datetime module instead.\n",
            "  \n"
          ]
        }
      ],
      "source": [
        "import yfinance as yf\n",
        "import pandas as pd\n",
        "import numpy as np\n",
        "import matplotlib.pyplot as plt\n",
        "from statsmodels.graphics.tsaplots import plot_pacf, plot_acf\n",
        "from pandas import datetime\n",
        "from datetime import datetime\n",
        "from statsmodels.tsa.statespace.sarimax import SARIMAX\n",
        "from sklearn.metrics import mean_squared_error\n",
        "from datetime import timedelta\n",
        "from time import time\n",
        "import pywt\n",
        "import copy\n",
        "# from PyEMD import EMD"
      ]
    },
    {
      "cell_type": "code",
      "source": [
        "pip install scipy"
      ],
      "metadata": {
        "id": "642Jpz5-qTj_",
        "colab": {
          "base_uri": "https://localhost:8080/"
        },
        "outputId": "65459183-3490-47be-d6ef-9cd1edf3d4e3"
      },
      "execution_count": null,
      "outputs": [
        {
          "output_type": "stream",
          "name": "stdout",
          "text": [
            "Requirement already satisfied: scipy in /usr/local/lib/python3.7/dist-packages (1.4.1)\n",
            "Requirement already satisfied: numpy>=1.13.3 in /usr/local/lib/python3.7/dist-packages (from scipy) (1.21.6)\n"
          ]
        }
      ]
    },
    {
      "cell_type": "code",
      "execution_count": null,
      "metadata": {
        "id": "_VEe8RX6Ak9D",
        "colab": {
          "base_uri": "https://localhost:8080/"
        },
        "outputId": "9ba3d828-cf73-421f-e95d-12af64dc9373"
      },
      "outputs": [
        {
          "output_type": "stream",
          "name": "stdout",
          "text": [
            "Collecting torch==1.7.1\n",
            "  Downloading torch-1.7.1-cp37-cp37m-manylinux1_x86_64.whl (776.8 MB)\n",
            "\u001b[K     |████████████████████████████████| 776.8 MB 15 kB/s \n",
            "\u001b[?25hCollecting torchvision==0.8.2\n",
            "  Downloading torchvision-0.8.2-cp37-cp37m-manylinux1_x86_64.whl (12.8 MB)\n",
            "\u001b[K     |████████████████████████████████| 12.8 MB 33.6 MB/s \n",
            "\u001b[?25hRequirement already satisfied: numpy in /usr/local/lib/python3.7/dist-packages (from torch==1.7.1) (1.21.6)\n",
            "Requirement already satisfied: typing-extensions in /usr/local/lib/python3.7/dist-packages (from torch==1.7.1) (4.2.0)\n",
            "Requirement already satisfied: pillow>=4.1.1 in /usr/local/lib/python3.7/dist-packages (from torchvision==0.8.2) (7.1.2)\n",
            "Installing collected packages: torch, torchvision\n",
            "  Attempting uninstall: torch\n",
            "    Found existing installation: torch 1.11.0+cu113\n",
            "    Uninstalling torch-1.11.0+cu113:\n",
            "      Successfully uninstalled torch-1.11.0+cu113\n",
            "  Attempting uninstall: torchvision\n",
            "    Found existing installation: torchvision 0.12.0+cu113\n",
            "    Uninstalling torchvision-0.12.0+cu113:\n",
            "      Successfully uninstalled torchvision-0.12.0+cu113\n",
            "\u001b[31mERROR: pip's dependency resolver does not currently take into account all the packages that are installed. This behaviour is the source of the following dependency conflicts.\n",
            "torchtext 0.12.0 requires torch==1.11.0, but you have torch 1.7.1 which is incompatible.\n",
            "torchaudio 0.11.0+cu113 requires torch==1.11.0, but you have torch 1.7.1 which is incompatible.\u001b[0m\n",
            "Successfully installed torch-1.7.1 torchvision-0.8.2\n"
          ]
        }
      ],
      "source": [
        "pip install torch==1.7.1 torchvision==0.8.2"
      ]
    },
    {
      "cell_type": "markdown",
      "metadata": {
        "id": "-ju7ZEDB67Mb"
      },
      "source": [
        "# remaining"
      ]
    },
    {
      "cell_type": "code",
      "source": [
        "def WT(index_list, wavefunc='db4', lv=7, m=1, n=7, plot=True):\n",
        "    \n",
        "    '''\n",
        "    WT: Wavelet Transformation Function\n",
        "    index_list: Input Sequence;\n",
        "   \n",
        "    lv: Decomposing Level；\n",
        " \n",
        "    wavefunc: Function of Wavelet, 'db4' default；\n",
        "    \n",
        "    m, n: Level of Threshold Processing\n",
        "   \n",
        "    '''\n",
        "    # Decomposing \n",
        "    coeff = pywt.wavedec(index_list,wavefunc,mode='sym',level=lv)   #  Decomposing by levels，cD is the details coefficient\n",
        "    sgn = lambda x: 1 if x > 0 else -1 if x < 0 else 0 # sgn function \n",
        "    # Denoising\n",
        "    # Soft Threshold Processing Method\n",
        "    for i in range(m,n+1):   #  Select m~n Levels of the wavelet coefficients，and no need to dispose the cA coefficients(approximation coefficients)\n",
        "        cD = coeff[i]\n",
        "        Tr = np.sqrt(2*np.log2(len(cD)))  # Compute Threshold\n",
        "        for j in range(len(cD)):\n",
        "            if cD[j] >= Tr:\n",
        "                coeff[i][j] = sgn(cD[j]) * (np.abs(cD[j]) -  Tr)  # Shrink to zero\n",
        "            else:\n",
        "                coeff[i][j] = 0   # Set to zero if smaller than threshold\n",
        "\n",
        "    # Reconstructing\n",
        "    coeffs = {}\n",
        "    for i in range(len(coeff)):\n",
        "        coeffs[i] = copy.deepcopy(coeff)\n",
        "        for j in range(len(coeff)):\n",
        "            if j != i:\n",
        "                coeffs[i][j] = np.zeros_like(coeff[j])\n",
        "    \n",
        "    for i in range(len(coeff)):\n",
        "        coeff[i] = pywt.waverec(coeffs[i], wavefunc)\n",
        "        if len(coeff[i]) > len(index_list):\n",
        "            coeff[i] = coeff[i][:-1]\n",
        "        \n",
        "    if plot:     \n",
        "        denoised_index = np.sum(coeff, axis=0)   \n",
        "        data = pd.DataFrame({'CLOSE': index_list, 'denoised': denoised_index})\n",
        "        data.plot(figsize=(10,10),subplots=(2,1))\n",
        "        data.plot(figsize=(10,5))\n",
        "    denoised_index = np.sum(coeff, axis=0)   \n",
        "    return coeff"
      ],
      "metadata": {
        "id": "rlAGA0AtQKzW"
      },
      "execution_count": null,
      "outputs": []
    },
    {
      "cell_type": "code",
      "execution_count": null,
      "metadata": {
        "id": "ZU2rwvonZRcV"
      },
      "outputs": [],
      "source": [
        "WMT = yf.download('GOOG', \n",
        "                      start='2010-01-01', \n",
        "                      end='2021-06-01', \n",
        "                      progress=False,\n",
        ")"
      ]
    },
    {
      "cell_type": "code",
      "execution_count": null,
      "metadata": {
        "id": "spJmXx-PZRwP"
      },
      "outputs": [],
      "source": [
        "df1=pd.DataFrame(WMT)\n",
        "df1=df1['Close']"
      ]
    },
    {
      "cell_type": "code",
      "execution_count": null,
      "metadata": {
        "id": "mo2kMQQcZW16"
      },
      "outputs": [],
      "source": [
        "df1=df1.to_frame()"
      ]
    },
    {
      "cell_type": "code",
      "execution_count": null,
      "metadata": {
        "id": "PanO-X-eZvOf"
      },
      "outputs": [],
      "source": [
        "df1['Close']=df1['Close'].apply(lambda x: float(x))"
      ]
    },
    {
      "cell_type": "code",
      "execution_count": null,
      "metadata": {
        "colab": {
          "base_uri": "https://localhost:8080/",
          "height": 863
        },
        "id": "DIeGRgvlZv4o",
        "outputId": "20ed7208-44e3-4e9f-b9e8-6d4a4fc24ed4"
      },
      "outputs": [
        {
          "output_type": "display_data",
          "data": {
            "text/plain": [
              "<Figure size 720x720 with 2 Axes>"
            ],
            "image/png": "[encoded data removed]"
          },
          "metadata": {
            "needs_background": "light"
          }
        },
        {
          "output_type": "display_data",
          "data": {
            "text/plain": [
              "<Figure size 720x360 with 1 Axes>"
            ],
            "image/png": "[encoded data removed]"
          },
          "metadata": {
            "needs_background": "light"
          }
        }
      ],
      "source": [
        "s=WT(df1['Close'])"
      ]
    },
    {
      "cell_type": "code",
      "execution_count": null,
      "metadata": {
        "id": "5_KDIxspZ0jU"
      },
      "outputs": [],
      "source": [
        "s = pd.DataFrame(np.array(s).T)"
      ]
    },
    {
      "cell_type": "code",
      "execution_count": null,
      "metadata": {
        "id": "GVETpSfqaLo-"
      },
      "outputs": [],
      "source": [
        "# s = pd.DataFrame(np.array(s).T)\n",
        "s.columns = ['a','b','c','d','e','f']\n",
        "s['Total']=s['a']+s['b']+s['c']+s['d']+s['e']+s['f']"
      ]
    },
    {
      "cell_type": "code",
      "source": [
        "s"
      ],
      "metadata": {
        "colab": {
          "base_uri": "https://localhost:8080/",
          "height": 411
        },
        "id": "RhfE8ARxQlD1",
        "outputId": "098ebb1d-0e27-4adc-d928-9049ecd50ca5"
      },
      "execution_count": null,
      "outputs": [
        {
          "output_type": "execute_result",
          "data": {
            "text/plain": [
              "                a          b         c          d          e          f  \\\n",
              "0      291.761671   2.456417  1.730779   0.301913   0.289474   0.000000   \n",
              "1      290.419282   2.252660  1.518071   0.805639  -0.224143   0.000000   \n",
              "2      289.058665   1.923527  1.325313   0.803340  -0.244296   0.000000   \n",
              "3      287.684687   1.457116  1.164536   0.234105   0.109436   0.000000   \n",
              "4      286.235038   0.964502  0.841619  -0.538386   0.303945   0.000000   \n",
              "...           ...        ...       ...        ...        ...        ...   \n",
              "2866  2400.098687 -18.647930 -2.953915  46.738768  -5.149680  12.359338   \n",
              "2867  2401.820786 -11.388069 -3.574910  34.707812  12.185642  -6.851099   \n",
              "2868  2403.143636  -4.209304 -4.244475  17.812642  12.071648   3.716852   \n",
              "2869  2403.933591   3.879646 -4.940158 -11.887005  -4.306738  -2.906913   \n",
              "2870  2405.184218   9.657306 -5.059412 -24.929942  -6.653852   1.909232   \n",
              "\n",
              "            Total  \n",
              "0      296.540254  \n",
              "1      294.771509  \n",
              "2      292.866549  \n",
              "3      290.649881  \n",
              "4      287.806717  \n",
              "...           ...  \n",
              "2866  2432.445267  \n",
              "2867  2426.900161  \n",
              "2868  2428.291000  \n",
              "2869  2383.772424  \n",
              "2870  2380.107552  \n",
              "\n",
              "[2871 rows x 7 columns]"
            ],
            "text/html": [
              "\n",
              "  <div id=\"df-3029bfde-ad8a-4be3-80a6-6835eff2c669\">\n",
              "    <div class=\"colab-df-container\">\n",
              "      <div>\n",
              "<style scoped>\n",
              "    .dataframe tbody tr th:only-of-type {\n",
              "        vertical-align: middle;\n",
              "    }\n",
              "\n",
              "    .dataframe tbody tr th {\n",
              "        vertical-align: top;\n",
              "    }\n",
              "\n",
              "    .dataframe thead th {\n",
              "        text-align: right;\n",
              "    }\n",
              "</style>\n",
              "<table border=\"1\" class=\"dataframe\">\n",
              "  <thead>\n",
              "    <tr style=\"text-align: right;\">\n",
              "      <th></th>\n",
              "      <th>a</th>\n",
              "      <th>b</th>\n",
              "      <th>c</th>\n",
              "      <th>d</th>\n",
              "      <th>e</th>\n",
              "      <th>f</th>\n",
              "      <th>Total</th>\n",
              "    </tr>\n",
              "  </thead>\n",
              "  <tbody>\n",
              "    <tr>\n",
              "      <th>0</th>\n",
              "      <td>291.761671</td>\n",
              "      <td>2.456417</td>\n",
              "      <td>1.730779</td>\n",
              "      <td>0.301913</td>\n",
              "      <td>0.289474</td>\n",
              "      <td>0.000000</td>\n",
              "      <td>296.540254</td>\n",
              "    </tr>\n",
              "    <tr>\n",
              "      <th>1</th>\n",
              "      <td>290.419282</td>\n",
              "      <td>2.252660</td>\n",
              "      <td>1.518071</td>\n",
              "      <td>0.805639</td>\n",
              "      <td>-0.224143</td>\n",
              "      <td>0.000000</td>\n",
              "      <td>294.771509</td>\n",
              "    </tr>\n",
              "    <tr>\n",
              "      <th>2</th>\n",
              "      <td>289.058665</td>\n",
              "      <td>1.923527</td>\n",
              "      <td>1.325313</td>\n",
              "      <td>0.803340</td>\n",
              "      <td>-0.244296</td>\n",
              "      <td>0.000000</td>\n",
              "      <td>292.866549</td>\n",
              "    </tr>\n",
              "    <tr>\n",
              "      <th>3</th>\n",
              "      <td>287.684687</td>\n",
              "      <td>1.457116</td>\n",
              "      <td>1.164536</td>\n",
              "      <td>0.234105</td>\n",
              "      <td>0.109436</td>\n",
              "      <td>0.000000</td>\n",
              "      <td>290.649881</td>\n",
              "    </tr>\n",
              "    <tr>\n",
              "      <th>4</th>\n",
              "      <td>286.235038</td>\n",
              "      <td>0.964502</td>\n",
              "      <td>0.841619</td>\n",
              "      <td>-0.538386</td>\n",
              "      <td>0.303945</td>\n",
              "      <td>0.000000</td>\n",
              "      <td>287.806717</td>\n",
              "    </tr>\n",
              "    <tr>\n",
              "      <th>...</th>\n",
              "      <td>...</td>\n",
              "      <td>...</td>\n",
              "      <td>...</td>\n",
              "      <td>...</td>\n",
              "      <td>...</td>\n",
              "      <td>...</td>\n",
              "      <td>...</td>\n",
              "    </tr>\n",
              "    <tr>\n",
              "      <th>2866</th>\n",
              "      <td>2400.098687</td>\n",
              "      <td>-18.647930</td>\n",
              "      <td>-2.953915</td>\n",
              "      <td>46.738768</td>\n",
              "      <td>-5.149680</td>\n",
              "      <td>12.359338</td>\n",
              "      <td>2432.445267</td>\n",
              "    </tr>\n",
              "    <tr>\n",
              "      <th>2867</th>\n",
              "      <td>2401.820786</td>\n",
              "      <td>-11.388069</td>\n",
              "      <td>-3.574910</td>\n",
              "      <td>34.707812</td>\n",
              "      <td>12.185642</td>\n",
              "      <td>-6.851099</td>\n",
              "      <td>2426.900161</td>\n",
              "    </tr>\n",
              "    <tr>\n",
              "      <th>2868</th>\n",
              "      <td>2403.143636</td>\n",
              "      <td>-4.209304</td>\n",
              "      <td>-4.244475</td>\n",
              "      <td>17.812642</td>\n",
              "      <td>12.071648</td>\n",
              "      <td>3.716852</td>\n",
              "      <td>2428.291000</td>\n",
              "    </tr>\n",
              "    <tr>\n",
              "      <th>2869</th>\n",
              "      <td>2403.933591</td>\n",
              "      <td>3.879646</td>\n",
              "      <td>-4.940158</td>\n",
              "      <td>-11.887005</td>\n",
              "      <td>-4.306738</td>\n",
              "      <td>-2.906913</td>\n",
              "      <td>2383.772424</td>\n",
              "    </tr>\n",
              "    <tr>\n",
              "      <th>2870</th>\n",
              "      <td>2405.184218</td>\n",
              "      <td>9.657306</td>\n",
              "      <td>-5.059412</td>\n",
              "      <td>-24.929942</td>\n",
              "      <td>-6.653852</td>\n",
              "      <td>1.909232</td>\n",
              "      <td>2380.107552</td>\n",
              "    </tr>\n",
              "  </tbody>\n",
              "</table>\n",
              "<p>2871 rows × 7 columns</p>\n",
              "</div>\n",
              "      <button class=\"colab-df-convert\" onclick=\"convertToInteractive('df-3029bfde-ad8a-4be3-80a6-6835eff2c669')\"\n",
              "              title=\"Convert this dataframe to an interactive table.\"\n",
              "              style=\"display:none;\">\n",
              "        \n",
              "  <svg xmlns=\"http://www.w3.org/2000/svg\" height=\"24px\"viewBox=\"0 0 24 24\"\n",
              "       width=\"24px\">\n",
              "    <path d=\"M0 0h24v24H0V0z\" fill=\"none\"/>\n",
              "    <path d=\"M18.56 5.44l.94 2.06.94-2.06 2.06-.94-2.06-.94-.94-2.06-.94 2.06-2.06.94zm-11 1L8.5 8.5l.94-2.06 2.06-.94-2.06-.94L8.5 2.5l-.94 2.06-2.06.94zm10 10l.94 2.06.94-2.06 2.06-.94-2.06-.94-.94-2.06-.94 2.06-2.06.94z\"/><path d=\"M17.41 7.96l-1.37-1.37c-.4-.4-.92-.59-1.43-.59-.52 0-1.04.2-1.43.59L10.3 9.45l-7.72 7.72c-.78.78-.78 2.05 0 2.83L4 21.41c.39.39.9.59 1.41.59.51 0 1.02-.2 1.41-.59l7.78-7.78 2.81-2.81c.8-.78.8-2.07 0-2.86zM5.41 20L4 18.59l7.72-7.72 1.47 1.35L5.41 20z\"/>\n",
              "  </svg>\n",
              "      </button>\n",
              "      \n",
              "  <style>\n",
              "    .colab-df-container {\n",
              "      display:flex;\n",
              "      flex-wrap:wrap;\n",
              "      gap: 12px;\n",
              "    }\n",
              "\n",
              "    .colab-df-convert {\n",
              "      background-color: #E8F0FE;\n",
              "      border: none;\n",
              "      border-radius: 50%;\n",
              "      cursor: pointer;\n",
              "      display: none;\n",
              "      fill: #1967D2;\n",
              "      height: 32px;\n",
              "      padding: 0 0 0 0;\n",
              "      width: 32px;\n",
              "    }\n",
              "\n",
              "    .colab-df-convert:hover {\n",
              "      background-color: #E2EBFA;\n",
              "      box-shadow: 0px 1px 2px rgba(60, 64, 67, 0.3), 0px 1px 3px 1px rgba(60, 64, 67, 0.15);\n",
              "      fill: #174EA6;\n",
              "    }\n",
              "\n",
              "    [theme=dark] .colab-df-convert {\n",
              "      background-color: #3B4455;\n",
              "      fill: #D2E3FC;\n",
              "    }\n",
              "\n",
              "    [theme=dark] .colab-df-convert:hover {\n",
              "      background-color: #434B5C;\n",
              "      box-shadow: 0px 1px 3px 1px rgba(0, 0, 0, 0.15);\n",
              "      filter: drop-shadow(0px 1px 2px rgba(0, 0, 0, 0.3));\n",
              "      fill: #FFFFFF;\n",
              "    }\n",
              "  </style>\n",
              "\n",
              "      <script>\n",
              "        const buttonEl =\n",
              "          document.querySelector('#df-3029bfde-ad8a-4be3-80a6-6835eff2c669 button.colab-df-convert');\n",
              "        buttonEl.style.display =\n",
              "          google.colab.kernel.accessAllowed ? 'block' : 'none';\n",
              "\n",
              "        async function convertToInteractive(key) {\n",
              "          const element = document.querySelector('#df-3029bfde-ad8a-4be3-80a6-6835eff2c669');\n",
              "          const dataTable =\n",
              "            await google.colab.kernel.invokeFunction('convertToInteractive',\n",
              "                                                     [key], {});\n",
              "          if (!dataTable) return;\n",
              "\n",
              "          const docLinkHtml = 'Like what you see? Visit the ' +\n",
              "            '<a target=\"_blank\" href=https://colab.research.google.com/notebooks/data_table.ipynb>data table notebook</a>'\n",
              "            + ' to learn more about interactive tables.';\n",
              "          element.innerHTML = '';\n",
              "          dataTable['output_type'] = 'display_data';\n",
              "          await google.colab.output.renderOutput(dataTable, element);\n",
              "          const docLink = document.createElement('div');\n",
              "          docLink.innerHTML = docLinkHtml;\n",
              "          element.appendChild(docLink);\n",
              "        }\n",
              "      </script>\n",
              "    </div>\n",
              "  </div>\n",
              "  "
            ]
          },
          "metadata": {},
          "execution_count": 13
        }
      ]
    },
    {
      "cell_type": "code",
      "execution_count": null,
      "metadata": {
        "id": "D4Hho7MqNlew"
      },
      "outputs": [],
      "source": [
        "s.to_csv('WT_data.csv',index=False,header=False)"
      ]
    },
    {
      "cell_type": "code",
      "execution_count": null,
      "metadata": {
        "colab": {
          "base_uri": "https://localhost:8080/"
        },
        "id": "tGfxrQRU8yw9",
        "outputId": "0a777ab6-f798-4835-f294-aa7ec8754104"
      },
      "outputs": [
        {
          "output_type": "stream",
          "name": "stdout",
          "text": [
            "Cloning into 'StemGNN'...\n",
            "remote: Enumerating objects: 468, done.\u001b[K\n",
            "remote: Total 468 (delta 0), reused 0 (delta 0), pack-reused 468\u001b[K\n",
            "Receiving objects: 100% (468/468), 14.55 MiB | 6.12 MiB/s, done.\n",
            "Resolving deltas: 100% (250/250), done.\n"
          ]
        }
      ],
      "source": [
        "! git clone https://github.com/microsoft/StemGNN"
      ]
    },
    {
      "cell_type": "code",
      "execution_count": null,
      "metadata": {
        "colab": {
          "base_uri": "https://localhost:8080/"
        },
        "id": "pt-X7mPc-uPv",
        "outputId": "0c12bbbb-f2e0-4153-8854-1d010c8f194f"
      },
      "outputs": [
        {
          "output_type": "stream",
          "name": "stdout",
          "text": [
            "\u001b[0m\u001b[01;34mdata_loader\u001b[0m/  main.py  \u001b[01;34moutput\u001b[0m/    requirements.txt\n",
            "\u001b[01;34mdataset\u001b[0m/      \u001b[01;34mmodels\u001b[0m/  README.md  \u001b[01;34mutils\u001b[0m/\n"
          ]
        }
      ],
      "source": [
        "ls\n"
      ]
    },
    {
      "cell_type": "code",
      "source": [
        "cd .."
      ],
      "metadata": {
        "colab": {
          "base_uri": "https://localhost:8080/"
        },
        "id": "If9CFk0lm76d",
        "outputId": "9259aba3-1a61-471d-f0d1-37d57245cc3e"
      },
      "execution_count": null,
      "outputs": [
        {
          "output_type": "stream",
          "name": "stdout",
          "text": [
            "/content/StemGNN\n"
          ]
        }
      ]
    },
    {
      "cell_type": "code",
      "execution_count": null,
      "metadata": {
        "id": "E6CoLyyy-1PJ"
      },
      "outputs": [],
      "source": [
        "!python main.py"
      ]
    },
    {
      "cell_type": "code",
      "execution_count": null,
      "metadata": {
        "colab": {
          "base_uri": "https://localhost:8080/"
        },
        "id": "VJBC_zl9JV_H",
        "outputId": "d9c267ad-dd24-45bf-b23e-329586c374b0"
      },
      "outputs": [
        {
          "output_type": "stream",
          "name": "stdout",
          "text": [
            "/content/StemGNN/output\n"
          ]
        }
      ],
      "source": [
        "cd output"
      ]
    },
    {
      "cell_type": "code",
      "execution_count": null,
      "metadata": {
        "colab": {
          "base_uri": "https://localhost:8080/"
        },
        "id": "PV5RAvXEJaE-",
        "outputId": "01138c65-6c88-4e13-9fb4-a02b46fcea03"
      },
      "outputs": [
        {
          "output_type": "stream",
          "name": "stdout",
          "text": [
            "\u001b[0m\u001b[01;34mWT_data\u001b[0m/\n"
          ]
        }
      ],
      "source": [
        "ls"
      ]
    },
    {
      "cell_type": "code",
      "execution_count": null,
      "metadata": {
        "colab": {
          "base_uri": "https://localhost:8080/"
        },
        "id": "xazp_niwJb26",
        "outputId": "f3825b0e-7b01-4546-e24d-3a27213c1c68"
      },
      "outputs": [
        {
          "output_type": "stream",
          "name": "stdout",
          "text": [
            "/content/StemGNN/output/WT_data\n"
          ]
        }
      ],
      "source": [
        "cd WT_data"
      ]
    },
    {
      "cell_type": "code",
      "execution_count": null,
      "metadata": {
        "colab": {
          "base_uri": "https://localhost:8080/"
        },
        "id": "-u_Cf2fJJeYe",
        "outputId": "cbe38434-e2c1-4220-9318-ac822cab69e9"
      },
      "outputs": [
        {
          "output_type": "stream",
          "name": "stdout",
          "text": [
            "/content/StemGNN/output/WT_data/test\n"
          ]
        }
      ],
      "source": [
        "cd test"
      ]
    },
    {
      "cell_type": "code",
      "execution_count": null,
      "metadata": {
        "colab": {
          "base_uri": "https://localhost:8080/"
        },
        "id": "m2XSSM5sJsgL",
        "outputId": "ca5e0ae5-b6ee-46a7-cf01-52e311ed001d"
      },
      "outputs": [
        {
          "output_type": "stream",
          "name": "stdout",
          "text": [
            "predict_abs_error.csv  predict_ape.csv  predict.csv  target.csv\n"
          ]
        }
      ],
      "source": [
        "ls"
      ]
    },
    {
      "cell_type": "code",
      "execution_count": null,
      "metadata": {
        "id": "FUCrxDVwJxWd"
      },
      "outputs": [],
      "source": [
        "predicted=pd.read_csv('predict.csv')\n",
        "target=pd.read_csv('target.csv')"
      ]
    },
    {
      "cell_type": "code",
      "source": [
        "predicted=std_scaler.inverse_transform(predicted.to_numpy())"
      ],
      "metadata": {
        "id": "P70CCasY8zDO"
      },
      "execution_count": null,
      "outputs": []
    },
    {
      "cell_type": "code",
      "source": [
        "target=std_scaler.inverse_transform(target.to_numpy())"
      ],
      "metadata": {
        "id": "tT4n3QPt9Shj"
      },
      "execution_count": null,
      "outputs": []
    },
    {
      "cell_type": "code",
      "source": [
        "predicted=pd.DataFrame(predicted)\n",
        "target=pd.DataFrame(target)\n"
      ],
      "metadata": {
        "id": "9pKC35K39XDN"
      },
      "execution_count": null,
      "outputs": []
    },
    {
      "cell_type": "code",
      "execution_count": null,
      "metadata": {
        "colab": {
          "base_uri": "https://localhost:8080/",
          "height": 411
        },
        "id": "pGKRD66GJ8dD",
        "outputId": "9b038c48-27ed-410c-98dc-87e4f1348efa"
      },
      "outputs": [
        {
          "output_type": "execute_result",
          "data": {
            "text/plain": [
              "                0         1         2         3         4         5         6  \\\n",
              "0     5214.243456 -0.671262  0.307547  0.010670 -0.101002  0.049017 -0.001879   \n",
              "1     7727.224423  1.094888 -0.813531 -0.358992  0.007627  0.073990  0.046248   \n",
              "2     7488.599203 -4.346102  2.012916  0.024109  0.157823  0.092039  0.047691   \n",
              "3     8320.235938 -1.849193  0.971679  0.075654  0.145932  0.006572  0.500736   \n",
              "4     9468.452429  7.315400  2.310870  0.568821  0.146586 -0.024882  0.011963   \n",
              "..            ...       ...       ...       ...       ...       ...       ...   \n",
              "214  11022.226425  9.374397  0.260610 -0.959351  0.703912  0.069172  0.384889   \n",
              "215  11193.372256  8.039993  0.124641 -0.956023  0.944929  0.013159  0.262510   \n",
              "216  10988.940021  8.179256 -0.050053 -0.935688  0.959910  0.042851  0.125149   \n",
              "217  10970.986809  6.205909 -0.237044 -0.829080  1.227265  0.043985  0.065042   \n",
              "218  11085.105321  5.312529 -0.111768 -0.737536  1.425534  0.027580  0.102066   \n",
              "\n",
              "            7             8  \n",
              "0    0.005411   5075.289840  \n",
              "1    0.000099   6229.451508  \n",
              "2   -0.003672   7911.366529  \n",
              "3   -0.002743   9184.946773  \n",
              "4    0.009111   9782.838536  \n",
              "..        ...           ...  \n",
              "214  0.008023  10954.876535  \n",
              "215  0.004827  11271.692451  \n",
              "216  0.002428  11048.058803  \n",
              "217  0.000730  11090.923522  \n",
              "218  0.001846  11230.630877  \n",
              "\n",
              "[219 rows x 9 columns]"
            ],
            "text/html": [
              "\n",
              "  <div id=\"df-a2f6069b-b880-4080-9134-7efde9b64340\">\n",
              "    <div class=\"colab-df-container\">\n",
              "      <div>\n",
              "<style scoped>\n",
              "    .dataframe tbody tr th:only-of-type {\n",
              "        vertical-align: middle;\n",
              "    }\n",
              "\n",
              "    .dataframe tbody tr th {\n",
              "        vertical-align: top;\n",
              "    }\n",
              "\n",
              "    .dataframe thead th {\n",
              "        text-align: right;\n",
              "    }\n",
              "</style>\n",
              "<table border=\"1\" class=\"dataframe\">\n",
              "  <thead>\n",
              "    <tr style=\"text-align: right;\">\n",
              "      <th></th>\n",
              "      <th>0</th>\n",
              "      <th>1</th>\n",
              "      <th>2</th>\n",
              "      <th>3</th>\n",
              "      <th>4</th>\n",
              "      <th>5</th>\n",
              "      <th>6</th>\n",
              "      <th>7</th>\n",
              "      <th>8</th>\n",
              "    </tr>\n",
              "  </thead>\n",
              "  <tbody>\n",
              "    <tr>\n",
              "      <th>0</th>\n",
              "      <td>5214.243456</td>\n",
              "      <td>-0.671262</td>\n",
              "      <td>0.307547</td>\n",
              "      <td>0.010670</td>\n",
              "      <td>-0.101002</td>\n",
              "      <td>0.049017</td>\n",
              "      <td>-0.001879</td>\n",
              "      <td>0.005411</td>\n",
              "      <td>5075.289840</td>\n",
              "    </tr>\n",
              "    <tr>\n",
              "      <th>1</th>\n",
              "      <td>7727.224423</td>\n",
              "      <td>1.094888</td>\n",
              "      <td>-0.813531</td>\n",
              "      <td>-0.358992</td>\n",
              "      <td>0.007627</td>\n",
              "      <td>0.073990</td>\n",
              "      <td>0.046248</td>\n",
              "      <td>0.000099</td>\n",
              "      <td>6229.451508</td>\n",
              "    </tr>\n",
              "    <tr>\n",
              "      <th>2</th>\n",
              "      <td>7488.599203</td>\n",
              "      <td>-4.346102</td>\n",
              "      <td>2.012916</td>\n",
              "      <td>0.024109</td>\n",
              "      <td>0.157823</td>\n",
              "      <td>0.092039</td>\n",
              "      <td>0.047691</td>\n",
              "      <td>-0.003672</td>\n",
              "      <td>7911.366529</td>\n",
              "    </tr>\n",
              "    <tr>\n",
              "      <th>3</th>\n",
              "      <td>8320.235938</td>\n",
              "      <td>-1.849193</td>\n",
              "      <td>0.971679</td>\n",
              "      <td>0.075654</td>\n",
              "      <td>0.145932</td>\n",
              "      <td>0.006572</td>\n",
              "      <td>0.500736</td>\n",
              "      <td>-0.002743</td>\n",
              "      <td>9184.946773</td>\n",
              "    </tr>\n",
              "    <tr>\n",
              "      <th>4</th>\n",
              "      <td>9468.452429</td>\n",
              "      <td>7.315400</td>\n",
              "      <td>2.310870</td>\n",
              "      <td>0.568821</td>\n",
              "      <td>0.146586</td>\n",
              "      <td>-0.024882</td>\n",
              "      <td>0.011963</td>\n",
              "      <td>0.009111</td>\n",
              "      <td>9782.838536</td>\n",
              "    </tr>\n",
              "    <tr>\n",
              "      <th>...</th>\n",
              "      <td>...</td>\n",
              "      <td>...</td>\n",
              "      <td>...</td>\n",
              "      <td>...</td>\n",
              "      <td>...</td>\n",
              "      <td>...</td>\n",
              "      <td>...</td>\n",
              "      <td>...</td>\n",
              "      <td>...</td>\n",
              "    </tr>\n",
              "    <tr>\n",
              "      <th>214</th>\n",
              "      <td>11022.226425</td>\n",
              "      <td>9.374397</td>\n",
              "      <td>0.260610</td>\n",
              "      <td>-0.959351</td>\n",
              "      <td>0.703912</td>\n",
              "      <td>0.069172</td>\n",
              "      <td>0.384889</td>\n",
              "      <td>0.008023</td>\n",
              "      <td>10954.876535</td>\n",
              "    </tr>\n",
              "    <tr>\n",
              "      <th>215</th>\n",
              "      <td>11193.372256</td>\n",
              "      <td>8.039993</td>\n",
              "      <td>0.124641</td>\n",
              "      <td>-0.956023</td>\n",
              "      <td>0.944929</td>\n",
              "      <td>0.013159</td>\n",
              "      <td>0.262510</td>\n",
              "      <td>0.004827</td>\n",
              "      <td>11271.692451</td>\n",
              "    </tr>\n",
              "    <tr>\n",
              "      <th>216</th>\n",
              "      <td>10988.940021</td>\n",
              "      <td>8.179256</td>\n",
              "      <td>-0.050053</td>\n",
              "      <td>-0.935688</td>\n",
              "      <td>0.959910</td>\n",
              "      <td>0.042851</td>\n",
              "      <td>0.125149</td>\n",
              "      <td>0.002428</td>\n",
              "      <td>11048.058803</td>\n",
              "    </tr>\n",
              "    <tr>\n",
              "      <th>217</th>\n",
              "      <td>10970.986809</td>\n",
              "      <td>6.205909</td>\n",
              "      <td>-0.237044</td>\n",
              "      <td>-0.829080</td>\n",
              "      <td>1.227265</td>\n",
              "      <td>0.043985</td>\n",
              "      <td>0.065042</td>\n",
              "      <td>0.000730</td>\n",
              "      <td>11090.923522</td>\n",
              "    </tr>\n",
              "    <tr>\n",
              "      <th>218</th>\n",
              "      <td>11085.105321</td>\n",
              "      <td>5.312529</td>\n",
              "      <td>-0.111768</td>\n",
              "      <td>-0.737536</td>\n",
              "      <td>1.425534</td>\n",
              "      <td>0.027580</td>\n",
              "      <td>0.102066</td>\n",
              "      <td>0.001846</td>\n",
              "      <td>11230.630877</td>\n",
              "    </tr>\n",
              "  </tbody>\n",
              "</table>\n",
              "<p>219 rows × 9 columns</p>\n",
              "</div>\n",
              "      <button class=\"colab-df-convert\" onclick=\"convertToInteractive('df-a2f6069b-b880-4080-9134-7efde9b64340')\"\n",
              "              title=\"Convert this dataframe to an interactive table.\"\n",
              "              style=\"display:none;\">\n",
              "        \n",
              "  <svg xmlns=\"http://www.w3.org/2000/svg\" height=\"24px\"viewBox=\"0 0 24 24\"\n",
              "       width=\"24px\">\n",
              "    <path d=\"M0 0h24v24H0V0z\" fill=\"none\"/>\n",
              "    <path d=\"M18.56 5.44l.94 2.06.94-2.06 2.06-.94-2.06-.94-.94-2.06-.94 2.06-2.06.94zm-11 1L8.5 8.5l.94-2.06 2.06-.94-2.06-.94L8.5 2.5l-.94 2.06-2.06.94zm10 10l.94 2.06.94-2.06 2.06-.94-2.06-.94-.94-2.06-.94 2.06-2.06.94z\"/><path d=\"M17.41 7.96l-1.37-1.37c-.4-.4-.92-.59-1.43-.59-.52 0-1.04.2-1.43.59L10.3 9.45l-7.72 7.72c-.78.78-.78 2.05 0 2.83L4 21.41c.39.39.9.59 1.41.59.51 0 1.02-.2 1.41-.59l7.78-7.78 2.81-2.81c.8-.78.8-2.07 0-2.86zM5.41 20L4 18.59l7.72-7.72 1.47 1.35L5.41 20z\"/>\n",
              "  </svg>\n",
              "      </button>\n",
              "      \n",
              "  <style>\n",
              "    .colab-df-container {\n",
              "      display:flex;\n",
              "      flex-wrap:wrap;\n",
              "      gap: 12px;\n",
              "    }\n",
              "\n",
              "    .colab-df-convert {\n",
              "      background-color: #E8F0FE;\n",
              "      border: none;\n",
              "      border-radius: 50%;\n",
              "      cursor: pointer;\n",
              "      display: none;\n",
              "      fill: #1967D2;\n",
              "      height: 32px;\n",
              "      padding: 0 0 0 0;\n",
              "      width: 32px;\n",
              "    }\n",
              "\n",
              "    .colab-df-convert:hover {\n",
              "      background-color: #E2EBFA;\n",
              "      box-shadow: 0px 1px 2px rgba(60, 64, 67, 0.3), 0px 1px 3px 1px rgba(60, 64, 67, 0.15);\n",
              "      fill: #174EA6;\n",
              "    }\n",
              "\n",
              "    [theme=dark] .colab-df-convert {\n",
              "      background-color: #3B4455;\n",
              "      fill: #D2E3FC;\n",
              "    }\n",
              "\n",
              "    [theme=dark] .colab-df-convert:hover {\n",
              "      background-color: #434B5C;\n",
              "      box-shadow: 0px 1px 3px 1px rgba(0, 0, 0, 0.15);\n",
              "      filter: drop-shadow(0px 1px 2px rgba(0, 0, 0, 0.3));\n",
              "      fill: #FFFFFF;\n",
              "    }\n",
              "  </style>\n",
              "\n",
              "      <script>\n",
              "        const buttonEl =\n",
              "          document.querySelector('#df-a2f6069b-b880-4080-9134-7efde9b64340 button.colab-df-convert');\n",
              "        buttonEl.style.display =\n",
              "          google.colab.kernel.accessAllowed ? 'block' : 'none';\n",
              "\n",
              "        async function convertToInteractive(key) {\n",
              "          const element = document.querySelector('#df-a2f6069b-b880-4080-9134-7efde9b64340');\n",
              "          const dataTable =\n",
              "            await google.colab.kernel.invokeFunction('convertToInteractive',\n",
              "                                                     [key], {});\n",
              "          if (!dataTable) return;\n",
              "\n",
              "          const docLinkHtml = 'Like what you see? Visit the ' +\n",
              "            '<a target=\"_blank\" href=https://colab.research.google.com/notebooks/data_table.ipynb>data table notebook</a>'\n",
              "            + ' to learn more about interactive tables.';\n",
              "          element.innerHTML = '';\n",
              "          dataTable['output_type'] = 'display_data';\n",
              "          await google.colab.output.renderOutput(dataTable, element);\n",
              "          const docLink = document.createElement('div');\n",
              "          docLink.innerHTML = docLinkHtml;\n",
              "          element.appendChild(docLink);\n",
              "        }\n",
              "      </script>\n",
              "    </div>\n",
              "  </div>\n",
              "  "
            ]
          },
          "metadata": {},
          "execution_count": 78
        }
      ],
      "source": [
        "predicted"
      ]
    },
    {
      "cell_type": "code",
      "source": [
        "target"
      ],
      "metadata": {
        "colab": {
          "base_uri": "https://localhost:8080/",
          "height": 411
        },
        "id": "o6CevR_Y4BA_",
        "outputId": "6501948d-7140-4128-f9a1-5f488a7fe1bb"
      },
      "execution_count": null,
      "outputs": [
        {
          "output_type": "execute_result",
          "data": {
            "text/plain": [
              "                0         1         2         3         4         5  \\\n",
              "0    11702.965843  0.920870  5.997779 -0.007528 -1.268442  0.507590   \n",
              "1    11723.736466  0.941804  5.602536 -0.071614 -1.406747  0.388932   \n",
              "2    11744.511623  0.962736  5.204065 -0.122251 -1.376458  0.203148   \n",
              "3    11765.226615  0.983130  4.847306 -0.152630 -1.022943 -0.088513   \n",
              "4    11785.991057  1.003629  4.459937 -0.222122 -0.782655 -0.402621   \n",
              "..            ...       ...       ...       ...       ...       ...   \n",
              "214  14702.569972  6.026376 -1.153497 -7.874947  1.287758  0.042960   \n",
              "215  14709.999825  6.081024 -1.152678 -6.483310  2.410951  0.058007   \n",
              "216  14717.361273  6.140245 -1.156933 -5.535688  3.021915  0.059302   \n",
              "217  14724.650194  6.203144 -1.163844 -5.033513  3.084431  0.045510   \n",
              "218  14731.836919  6.253660 -1.159951 -4.539477  2.888451  0.023917   \n",
              "\n",
              "                6             7             8  \n",
              "0   -1.419724e-01  8.157407e-20  11950.713735  \n",
              "1    3.363552e-01  8.157407e-20  12051.214673  \n",
              "2    3.294278e-01  8.157407e-20  12031.598048  \n",
              "3   -1.303992e-01  8.157407e-20  11908.093399  \n",
              "4   -1.917691e-01  8.157407e-20  11873.471212  \n",
              "..            ...           ...           ...  \n",
              "214 -1.631481e-19  8.157407e-20  14686.995491  \n",
              "215 -1.631481e-19  8.157407e-20  14820.182134  \n",
              "216 -1.631481e-19  8.157407e-20  14902.413439  \n",
              "217 -1.631481e-19  8.157407e-20  14931.148161  \n",
              "218 -1.631481e-19  8.157407e-20  14941.441935  \n",
              "\n",
              "[219 rows x 9 columns]"
            ],
            "text/html": [
              "\n",
              "  <div id=\"df-cc2e9679-21c9-4de0-9d34-cea7d4368e31\">\n",
              "    <div class=\"colab-df-container\">\n",
              "      <div>\n",
              "<style scoped>\n",
              "    .dataframe tbody tr th:only-of-type {\n",
              "        vertical-align: middle;\n",
              "    }\n",
              "\n",
              "    .dataframe tbody tr th {\n",
              "        vertical-align: top;\n",
              "    }\n",
              "\n",
              "    .dataframe thead th {\n",
              "        text-align: right;\n",
              "    }\n",
              "</style>\n",
              "<table border=\"1\" class=\"dataframe\">\n",
              "  <thead>\n",
              "    <tr style=\"text-align: right;\">\n",
              "      <th></th>\n",
              "      <th>0</th>\n",
              "      <th>1</th>\n",
              "      <th>2</th>\n",
              "      <th>3</th>\n",
              "      <th>4</th>\n",
              "      <th>5</th>\n",
              "      <th>6</th>\n",
              "      <th>7</th>\n",
              "      <th>8</th>\n",
              "    </tr>\n",
              "  </thead>\n",
              "  <tbody>\n",
              "    <tr>\n",
              "      <th>0</th>\n",
              "      <td>11702.965843</td>\n",
              "      <td>0.920870</td>\n",
              "      <td>5.997779</td>\n",
              "      <td>-0.007528</td>\n",
              "      <td>-1.268442</td>\n",
              "      <td>0.507590</td>\n",
              "      <td>-1.419724e-01</td>\n",
              "      <td>8.157407e-20</td>\n",
              "      <td>11950.713735</td>\n",
              "    </tr>\n",
              "    <tr>\n",
              "      <th>1</th>\n",
              "      <td>11723.736466</td>\n",
              "      <td>0.941804</td>\n",
              "      <td>5.602536</td>\n",
              "      <td>-0.071614</td>\n",
              "      <td>-1.406747</td>\n",
              "      <td>0.388932</td>\n",
              "      <td>3.363552e-01</td>\n",
              "      <td>8.157407e-20</td>\n",
              "      <td>12051.214673</td>\n",
              "    </tr>\n",
              "    <tr>\n",
              "      <th>2</th>\n",
              "      <td>11744.511623</td>\n",
              "      <td>0.962736</td>\n",
              "      <td>5.204065</td>\n",
              "      <td>-0.122251</td>\n",
              "      <td>-1.376458</td>\n",
              "      <td>0.203148</td>\n",
              "      <td>3.294278e-01</td>\n",
              "      <td>8.157407e-20</td>\n",
              "      <td>12031.598048</td>\n",
              "    </tr>\n",
              "    <tr>\n",
              "      <th>3</th>\n",
              "      <td>11765.226615</td>\n",
              "      <td>0.983130</td>\n",
              "      <td>4.847306</td>\n",
              "      <td>-0.152630</td>\n",
              "      <td>-1.022943</td>\n",
              "      <td>-0.088513</td>\n",
              "      <td>-1.303992e-01</td>\n",
              "      <td>8.157407e-20</td>\n",
              "      <td>11908.093399</td>\n",
              "    </tr>\n",
              "    <tr>\n",
              "      <th>4</th>\n",
              "      <td>11785.991057</td>\n",
              "      <td>1.003629</td>\n",
              "      <td>4.459937</td>\n",
              "      <td>-0.222122</td>\n",
              "      <td>-0.782655</td>\n",
              "      <td>-0.402621</td>\n",
              "      <td>-1.917691e-01</td>\n",
              "      <td>8.157407e-20</td>\n",
              "      <td>11873.471212</td>\n",
              "    </tr>\n",
              "    <tr>\n",
              "      <th>...</th>\n",
              "      <td>...</td>\n",
              "      <td>...</td>\n",
              "      <td>...</td>\n",
              "      <td>...</td>\n",
              "      <td>...</td>\n",
              "      <td>...</td>\n",
              "      <td>...</td>\n",
              "      <td>...</td>\n",
              "      <td>...</td>\n",
              "    </tr>\n",
              "    <tr>\n",
              "      <th>214</th>\n",
              "      <td>14702.569972</td>\n",
              "      <td>6.026376</td>\n",
              "      <td>-1.153497</td>\n",
              "      <td>-7.874947</td>\n",
              "      <td>1.287758</td>\n",
              "      <td>0.042960</td>\n",
              "      <td>-1.631481e-19</td>\n",
              "      <td>8.157407e-20</td>\n",
              "      <td>14686.995491</td>\n",
              "    </tr>\n",
              "    <tr>\n",
              "      <th>215</th>\n",
              "      <td>14709.999825</td>\n",
              "      <td>6.081024</td>\n",
              "      <td>-1.152678</td>\n",
              "      <td>-6.483310</td>\n",
              "      <td>2.410951</td>\n",
              "      <td>0.058007</td>\n",
              "      <td>-1.631481e-19</td>\n",
              "      <td>8.157407e-20</td>\n",
              "      <td>14820.182134</td>\n",
              "    </tr>\n",
              "    <tr>\n",
              "      <th>216</th>\n",
              "      <td>14717.361273</td>\n",
              "      <td>6.140245</td>\n",
              "      <td>-1.156933</td>\n",
              "      <td>-5.535688</td>\n",
              "      <td>3.021915</td>\n",
              "      <td>0.059302</td>\n",
              "      <td>-1.631481e-19</td>\n",
              "      <td>8.157407e-20</td>\n",
              "      <td>14902.413439</td>\n",
              "    </tr>\n",
              "    <tr>\n",
              "      <th>217</th>\n",
              "      <td>14724.650194</td>\n",
              "      <td>6.203144</td>\n",
              "      <td>-1.163844</td>\n",
              "      <td>-5.033513</td>\n",
              "      <td>3.084431</td>\n",
              "      <td>0.045510</td>\n",
              "      <td>-1.631481e-19</td>\n",
              "      <td>8.157407e-20</td>\n",
              "      <td>14931.148161</td>\n",
              "    </tr>\n",
              "    <tr>\n",
              "      <th>218</th>\n",
              "      <td>14731.836919</td>\n",
              "      <td>6.253660</td>\n",
              "      <td>-1.159951</td>\n",
              "      <td>-4.539477</td>\n",
              "      <td>2.888451</td>\n",
              "      <td>0.023917</td>\n",
              "      <td>-1.631481e-19</td>\n",
              "      <td>8.157407e-20</td>\n",
              "      <td>14941.441935</td>\n",
              "    </tr>\n",
              "  </tbody>\n",
              "</table>\n",
              "<p>219 rows × 9 columns</p>\n",
              "</div>\n",
              "      <button class=\"colab-df-convert\" onclick=\"convertToInteractive('df-cc2e9679-21c9-4de0-9d34-cea7d4368e31')\"\n",
              "              title=\"Convert this dataframe to an interactive table.\"\n",
              "              style=\"display:none;\">\n",
              "        \n",
              "  <svg xmlns=\"http://www.w3.org/2000/svg\" height=\"24px\"viewBox=\"0 0 24 24\"\n",
              "       width=\"24px\">\n",
              "    <path d=\"M0 0h24v24H0V0z\" fill=\"none\"/>\n",
              "    <path d=\"M18.56 5.44l.94 2.06.94-2.06 2.06-.94-2.06-.94-.94-2.06-.94 2.06-2.06.94zm-11 1L8.5 8.5l.94-2.06 2.06-.94-2.06-.94L8.5 2.5l-.94 2.06-2.06.94zm10 10l.94 2.06.94-2.06 2.06-.94-2.06-.94-.94-2.06-.94 2.06-2.06.94z\"/><path d=\"M17.41 7.96l-1.37-1.37c-.4-.4-.92-.59-1.43-.59-.52 0-1.04.2-1.43.59L10.3 9.45l-7.72 7.72c-.78.78-.78 2.05 0 2.83L4 21.41c.39.39.9.59 1.41.59.51 0 1.02-.2 1.41-.59l7.78-7.78 2.81-2.81c.8-.78.8-2.07 0-2.86zM5.41 20L4 18.59l7.72-7.72 1.47 1.35L5.41 20z\"/>\n",
              "  </svg>\n",
              "      </button>\n",
              "      \n",
              "  <style>\n",
              "    .colab-df-container {\n",
              "      display:flex;\n",
              "      flex-wrap:wrap;\n",
              "      gap: 12px;\n",
              "    }\n",
              "\n",
              "    .colab-df-convert {\n",
              "      background-color: #E8F0FE;\n",
              "      border: none;\n",
              "      border-radius: 50%;\n",
              "      cursor: pointer;\n",
              "      display: none;\n",
              "      fill: #1967D2;\n",
              "      height: 32px;\n",
              "      padding: 0 0 0 0;\n",
              "      width: 32px;\n",
              "    }\n",
              "\n",
              "    .colab-df-convert:hover {\n",
              "      background-color: #E2EBFA;\n",
              "      box-shadow: 0px 1px 2px rgba(60, 64, 67, 0.3), 0px 1px 3px 1px rgba(60, 64, 67, 0.15);\n",
              "      fill: #174EA6;\n",
              "    }\n",
              "\n",
              "    [theme=dark] .colab-df-convert {\n",
              "      background-color: #3B4455;\n",
              "      fill: #D2E3FC;\n",
              "    }\n",
              "\n",
              "    [theme=dark] .colab-df-convert:hover {\n",
              "      background-color: #434B5C;\n",
              "      box-shadow: 0px 1px 3px 1px rgba(0, 0, 0, 0.15);\n",
              "      filter: drop-shadow(0px 1px 2px rgba(0, 0, 0, 0.3));\n",
              "      fill: #FFFFFF;\n",
              "    }\n",
              "  </style>\n",
              "\n",
              "      <script>\n",
              "        const buttonEl =\n",
              "          document.querySelector('#df-cc2e9679-21c9-4de0-9d34-cea7d4368e31 button.colab-df-convert');\n",
              "        buttonEl.style.display =\n",
              "          google.colab.kernel.accessAllowed ? 'block' : 'none';\n",
              "\n",
              "        async function convertToInteractive(key) {\n",
              "          const element = document.querySelector('#df-cc2e9679-21c9-4de0-9d34-cea7d4368e31');\n",
              "          const dataTable =\n",
              "            await google.colab.kernel.invokeFunction('convertToInteractive',\n",
              "                                                     [key], {});\n",
              "          if (!dataTable) return;\n",
              "\n",
              "          const docLinkHtml = 'Like what you see? Visit the ' +\n",
              "            '<a target=\"_blank\" href=https://colab.research.google.com/notebooks/data_table.ipynb>data table notebook</a>'\n",
              "            + ' to learn more about interactive tables.';\n",
              "          element.innerHTML = '';\n",
              "          dataTable['output_type'] = 'display_data';\n",
              "          await google.colab.output.renderOutput(dataTable, element);\n",
              "          const docLink = document.createElement('div');\n",
              "          docLink.innerHTML = docLinkHtml;\n",
              "          element.appendChild(docLink);\n",
              "        }\n",
              "      </script>\n",
              "    </div>\n",
              "  </div>\n",
              "  "
            ]
          },
          "metadata": {},
          "execution_count": 79
        }
      ]
    },
    {
      "cell_type": "code",
      "source": [
        "p=predicted.sum(axis=1)"
      ],
      "metadata": {
        "id": "6MJb17w_GBxo"
      },
      "execution_count": null,
      "outputs": []
    },
    {
      "cell_type": "code",
      "source": [
        "t=target.sum(axis=1)"
      ],
      "metadata": {
        "id": "zvrhwe_5GLtf"
      },
      "execution_count": null,
      "outputs": []
    },
    {
      "cell_type": "code",
      "source": [
        "p=predicted.iloc[:,-1]"
      ],
      "metadata": {
        "id": "fFHNgMOKZmo4"
      },
      "execution_count": null,
      "outputs": []
    },
    {
      "cell_type": "code",
      "source": [
        "t=target.iloc[:,-1]"
      ],
      "metadata": {
        "id": "AVv932BsZpoi"
      },
      "execution_count": null,
      "outputs": []
    },
    {
      "cell_type": "code",
      "source": [
        "t"
      ],
      "metadata": {
        "colab": {
          "base_uri": "https://localhost:8080/"
        },
        "id": "pA18MUQlGO16",
        "outputId": "4ce04290-d661-4391-c18b-1433dd9b2a5c"
      },
      "execution_count": null,
      "outputs": [
        {
          "output_type": "execute_result",
          "data": {
            "text/plain": [
              "0      1417.168542\n",
              "1      1416.917471\n",
              "2      1414.177151\n",
              "3      1410.570902\n",
              "4      1434.943286\n",
              "          ...     \n",
              "230    2395.622810\n",
              "231    2390.433097\n",
              "232    2415.116013\n",
              "233    2418.794045\n",
              "234    2429.524635\n",
              "Name: 1.421028704986067623e+03, Length: 235, dtype: float64"
            ]
          },
          "metadata": {},
          "execution_count": 49
        }
      ]
    },
    {
      "cell_type": "code",
      "source": [
        "p"
      ],
      "metadata": {
        "colab": {
          "base_uri": "https://localhost:8080/"
        },
        "id": "YG19BawIGHY5",
        "outputId": "974112c5-d4ec-4002-ef5e-a5ebad75585a"
      },
      "execution_count": null,
      "outputs": [
        {
          "output_type": "execute_result",
          "data": {
            "text/plain": [
              "0      1340.750975\n",
              "1      1381.400943\n",
              "2      1371.191410\n",
              "3      1388.218415\n",
              "4      1389.688387\n",
              "          ...     \n",
              "230    1480.396043\n",
              "231    1437.102141\n",
              "232    1507.184428\n",
              "233    1553.794428\n",
              "234    1467.154790\n",
              "Name: 1.368207990934163263e+03, Length: 235, dtype: float64"
            ]
          },
          "metadata": {},
          "execution_count": 50
        }
      ]
    },
    {
      "cell_type": "code",
      "source": [
        "from sklearn.metrics import mean_squared_error\n",
        "mean_squared_error(t,p, squared=False) "
      ],
      "metadata": {
        "colab": {
          "base_uri": "https://localhost:8080/"
        },
        "id": "8fRHbuE4w0cW",
        "outputId": "6813a32a-53ca-4279-9c4a-6aee7876d386"
      },
      "execution_count": null,
      "outputs": [
        {
          "output_type": "execute_result",
          "data": {
            "text/plain": [
              "470.58567926245587"
            ]
          },
          "metadata": {},
          "execution_count": 52
        }
      ]
    },
    {
      "cell_type": "code",
      "source": [
        "def mape(actual,pred):\n",
        "    return np.mean(np.abs((actual - pred) / actual)) * 100"
      ],
      "metadata": {
        "id": "XVVJ12bTGdlf"
      },
      "execution_count": null,
      "outputs": []
    },
    {
      "cell_type": "code",
      "source": [
        "result=mape(t,p)\n",
        "print(result)"
      ],
      "metadata": {
        "colab": {
          "base_uri": "https://localhost:8080/"
        },
        "id": "j7XKS5-NGd_s",
        "outputId": "c6cd066c-a9c9-481f-acd8-be0b27411a03"
      },
      "execution_count": null,
      "outputs": [
        {
          "output_type": "stream",
          "name": "stdout",
          "text": [
            "1.540999853077695\n"
          ]
        }
      ]
    },
    {
      "cell_type": "code",
      "source": [
        "plt.plot(n)\n",
        "plt.plot(predicted.iloc[:,-1])"
      ],
      "metadata": {
        "colab": {
          "base_uri": "https://localhost:8080/",
          "height": 281
        },
        "id": "FYKOFNq9iuXf",
        "outputId": "a093fce2-b2eb-4b8f-9126-f8a601baa45e"
      },
      "execution_count": null,
      "outputs": [
        {
          "output_type": "execute_result",
          "data": {
            "text/plain": [
              "[<matplotlib.lines.Line2D at 0x7fcfbb753110>]"
            ]
          },
          "metadata": {},
          "execution_count": 93
        },
        {
          "output_type": "display_data",
          "data": {
            "text/plain": [
              "<Figure size 432x288 with 1 Axes>"
            ],
            "image/png": "[encoded data removed]"
          },
          "metadata": {
            "needs_background": "light"
          }
        }
      ]
    },
    {
      "cell_type": "code",
      "source": [
        ""
      ],
      "metadata": {
        "id": "giAKzv4njkeL"
      },
      "execution_count": null,
      "outputs": []
    },
    {
      "cell_type": "code",
      "source": [
        "z=np.array(df1['Close'])"
      ],
      "metadata": {
        "id": "z2unyywtL8sY"
      },
      "execution_count": null,
      "outputs": []
    },
    {
      "cell_type": "code",
      "source": [
        "z=z[-206:]"
      ],
      "metadata": {
        "id": "9CEe9AeHMVDY"
      },
      "execution_count": null,
      "outputs": []
    },
    {
      "cell_type": "code",
      "source": [
        "z.shape"
      ],
      "metadata": {
        "colab": {
          "base_uri": "https://localhost:8080/"
        },
        "id": "vWzVFnpJMcsR",
        "outputId": "7ba3c7d2-79cd-493f-90b9-8022f56c12cb"
      },
      "execution_count": null,
      "outputs": [
        {
          "output_type": "execute_result",
          "data": {
            "text/plain": [
              "(206,)"
            ]
          },
          "metadata": {},
          "execution_count": 124
        }
      ]
    },
    {
      "cell_type": "code",
      "source": [
        "t=np.array(t)"
      ],
      "metadata": {
        "id": "wdkdbH66YC86"
      },
      "execution_count": null,
      "outputs": []
    },
    {
      "cell_type": "code",
      "source": [
        "plt.plot(t)\n",
        "plt.plot(p)"
      ],
      "metadata": {
        "colab": {
          "base_uri": "https://localhost:8080/",
          "height": 281
        },
        "id": "wlUgm8PG5UmC",
        "outputId": "e34f91f7-5909-48ea-ca2b-94bee1f4b009"
      },
      "execution_count": null,
      "outputs": [
        {
          "output_type": "execute_result",
          "data": {
            "text/plain": [
              "[<matplotlib.lines.Line2D at 0x7fcb466a7ad0>]"
            ]
          },
          "metadata": {},
          "execution_count": 53
        },
        {
          "output_type": "display_data",
          "data": {
            "text/plain": [
              "<Figure size 432x288 with 1 Axes>"
            ],
            "image/png": "[encoded data removed]"
          },
          "metadata": {
            "needs_background": "light"
          }
        }
      ]
    },
    {
      "cell_type": "code",
      "source": [
        "plt.plot(target.iloc[:,-1])\n",
        "plt.plot(predicted.iloc[:,-1])"
      ],
      "metadata": {
        "colab": {
          "base_uri": "https://localhost:8080/",
          "height": 281
        },
        "id": "OtMD8seC9TaZ",
        "outputId": "87741dcb-a18e-4304-b0c2-1864711ce162"
      },
      "execution_count": null,
      "outputs": [
        {
          "output_type": "execute_result",
          "data": {
            "text/plain": [
              "[<matplotlib.lines.Line2D at 0x7f86e80b8390>]"
            ]
          },
          "metadata": {},
          "execution_count": 121
        },
        {
          "output_type": "display_data",
          "data": {
            "text/plain": [
              "<Figure size 432x288 with 1 Axes>"
            ],
            "image/png": "[encoded data removed]"
          },
          "metadata": {
            "needs_background": "light"
          }
        }
      ]
    },
    {
      "cell_type": "markdown",
      "source": [
        "# EMD Method"
      ],
      "metadata": {
        "id": "D3BLLii0tEDe"
      }
    },
    {
      "cell_type": "code",
      "source": [
        "pip install EMD-signal"
      ],
      "metadata": {
        "colab": {
          "base_uri": "https://localhost:8080/"
        },
        "id": "K2ymO5Jwtu_U",
        "outputId": "d634fd78-cfa1-49b6-9b0f-dc7b479730be"
      },
      "execution_count": null,
      "outputs": [
        {
          "output_type": "stream",
          "name": "stdout",
          "text": [
            "Collecting EMD-signal\n",
            "  Downloading EMD_signal-1.2.3-py3-none-any.whl (64 kB)\n",
            "\u001b[?25l\r\u001b[K     |█████                           | 10 kB 18.9 MB/s eta 0:00:01\r\u001b[K     |██████████▏                     | 20 kB 10.1 MB/s eta 0:00:01\r\u001b[K     |███████████████▎                | 30 kB 6.8 MB/s eta 0:00:01\r\u001b[K     |████████████████████▍           | 40 kB 3.7 MB/s eta 0:00:01\r\u001b[K     |█████████████████████████▍      | 51 kB 4.2 MB/s eta 0:00:01\r\u001b[K     |██████████████████████████████▌ | 61 kB 4.6 MB/s eta 0:00:01\r\u001b[K     |████████████████████████████████| 64 kB 1.8 MB/s \n",
            "\u001b[?25hRequirement already satisfied: numpy>=1.12 in /usr/local/lib/python3.7/dist-packages (from EMD-signal) (1.21.6)\n",
            "Requirement already satisfied: scipy>=0.19 in /usr/local/lib/python3.7/dist-packages (from EMD-signal) (1.4.1)\n",
            "Collecting pathos>=0.2.1\n",
            "  Downloading pathos-0.2.8-py2.py3-none-any.whl (81 kB)\n",
            "\u001b[?25l\r\u001b[K     |████                            | 10 kB 30.6 MB/s eta 0:00:01\r\u001b[K     |████████                        | 20 kB 28.7 MB/s eta 0:00:01\r\u001b[K     |████████████                    | 30 kB 33.8 MB/s eta 0:00:01\r\u001b[K     |████████████████                | 40 kB 27.7 MB/s eta 0:00:01\r\u001b[K     |████████████████████            | 51 kB 22.6 MB/s eta 0:00:01\r\u001b[K     |████████████████████████        | 61 kB 24.8 MB/s eta 0:00:01\r\u001b[K     |████████████████████████████    | 71 kB 23.4 MB/s eta 0:00:01\r\u001b[K     |████████████████████████████████| 81 kB 7.6 MB/s \n",
            "\u001b[?25hRequirement already satisfied: multiprocess>=0.70.12 in /usr/local/lib/python3.7/dist-packages (from pathos>=0.2.1->EMD-signal) (0.70.12.2)\n",
            "Collecting pox>=0.3.0\n",
            "  Downloading pox-0.3.0-py2.py3-none-any.whl (30 kB)\n",
            "Collecting ppft>=1.6.6.4\n",
            "  Downloading ppft-1.6.6.4-py3-none-any.whl (65 kB)\n",
            "\u001b[K     |████████████████████████████████| 65 kB 3.5 MB/s \n",
            "\u001b[?25hRequirement already satisfied: dill>=0.3.4 in /usr/local/lib/python3.7/dist-packages (from pathos>=0.2.1->EMD-signal) (0.3.4)\n",
            "Requirement already satisfied: six>=1.7.3 in /usr/local/lib/python3.7/dist-packages (from ppft>=1.6.6.4->pathos>=0.2.1->EMD-signal) (1.15.0)\n",
            "Installing collected packages: ppft, pox, pathos, EMD-signal\n",
            "Successfully installed EMD-signal-1.2.3 pathos-0.2.8 pox-0.3.0 ppft-1.6.6.4\n"
          ]
        }
      ]
    },
    {
      "cell_type": "code",
      "source": [
        "WMT = yf.download('DJI', \n",
        "                      start='2016-01-01', \n",
        "                      end='2021-06-01', \n",
        "                      progress=False,\n",
        ")"
      ],
      "metadata": {
        "id": "KEt310XJvtwK"
      },
      "execution_count": null,
      "outputs": []
    },
    {
      "cell_type": "code",
      "source": [
        "df=pd.DataFrame(WMT)\n",
        "df=df['Close']"
      ],
      "metadata": {
        "id": "siVAQc1v2wU-"
      },
      "execution_count": null,
      "outputs": []
    },
    {
      "cell_type": "code",
      "source": [
        "df"
      ],
      "metadata": {
        "colab": {
          "base_uri": "https://localhost:8080/"
        },
        "id": "hBEoc5T5A8qq",
        "outputId": "bdb1f7e2-b42c-4bdc-f776-aeb8e7a18e30"
      },
      "execution_count": null,
      "outputs": [
        {
          "output_type": "execute_result",
          "data": {
            "text/plain": [
              "Date\n",
              "2016-01-04    17148.900391\n",
              "2016-01-05    17158.699219\n",
              "2016-01-06    16906.500000\n",
              "2016-01-07    16514.099609\n",
              "2016-01-08    16346.500000\n",
              "                  ...     \n",
              "2021-05-24    34394.000000\n",
              "2021-05-25    34312.500000\n",
              "2021-05-26    34323.101562\n",
              "2021-05-27    34464.601562\n",
              "2021-05-28    34529.398438\n",
              "Name: Close, Length: 1201, dtype: float64"
            ]
          },
          "metadata": {},
          "execution_count": 139
        }
      ]
    },
    {
      "cell_type": "code",
      "source": [
        "df=df.to_frame()"
      ],
      "metadata": {
        "id": "0JbKAgnk20fG"
      },
      "execution_count": null,
      "outputs": []
    },
    {
      "cell_type": "code",
      "source": [
        "df['Close']=df['Close'].apply(lambda x: float(x))"
      ],
      "metadata": {
        "id": "cDIq-Xz023RP"
      },
      "execution_count": null,
      "outputs": []
    },
    {
      "cell_type": "code",
      "source": [
        "x=np.array(df['Close'])\n",
        "t=np.arange(1,len(df)+1)"
      ],
      "metadata": {
        "id": "W9Y4F_Ve3qae"
      },
      "execution_count": null,
      "outputs": []
    },
    {
      "cell_type": "code",
      "source": [
        "IMF = EMD().emd(x,t)"
      ],
      "metadata": {
        "id": "drOJzLInEVD6"
      },
      "execution_count": null,
      "outputs": []
    },
    {
      "cell_type": "code",
      "source": [
        "IMF=np.transpose(IMF)\n",
        "df1=pd.DataFrame(IMF)"
      ],
      "metadata": {
        "id": "6-60_b3xE4a5"
      },
      "execution_count": null,
      "outputs": []
    },
    {
      "cell_type": "code",
      "source": [
        "df1"
      ],
      "metadata": {
        "colab": {
          "base_uri": "https://localhost:8080/",
          "height": 411
        },
        "id": "TG6n9lhs1Uw3",
        "outputId": "1408d8be-d3fa-498c-c15a-e01502db533d"
      },
      "execution_count": null,
      "outputs": [
        {
          "output_type": "execute_result",
          "data": {
            "text/plain": [
              "               0           1           2           3           4            5  \\\n",
              "0     247.063748  484.022610  365.140391 -676.494257 -573.387844 -1613.958071   \n",
              "1     246.719528  488.145857  375.484811 -678.464586 -575.396567 -1614.639246   \n",
              "2      67.356107  412.146762  381.719293 -679.618014 -577.050153 -1615.320070   \n",
              "3    -195.989752  282.907289  383.699722 -679.938564 -578.342546 -1616.000535   \n",
              "4    -215.305631  137.515514  381.310872 -679.415356 -579.268164 -1616.680634   \n",
              "...          ...         ...         ...         ...         ...          ...   \n",
              "1196  134.097863  276.326118 -206.945851 -206.307790  577.292360  4538.689536   \n",
              "1197  -31.559580  394.918835 -237.552213 -208.128082  575.321918  4537.203523   \n",
              "1198 -100.780954  500.869435 -259.450830 -208.218099  572.323205  4534.722105   \n",
              "1199    9.258520  548.572307 -271.160538 -206.495707  568.299523  4531.256020   \n",
              "1200   90.451060  537.451607 -271.688458 -202.913507  563.281543  4526.816007   \n",
              "\n",
              "                 6  \n",
              "0     18916.513814  \n",
              "1     18916.849421  \n",
              "2     18917.266075  \n",
              "3     18917.763995  \n",
              "4     18918.343398  \n",
              "...            ...  \n",
              "1196  29280.847763  \n",
              "1197  29282.295599  \n",
              "1198  29283.636699  \n",
              "1199  29284.871436  \n",
              "1200  29286.000186  \n",
              "\n",
              "[1201 rows x 7 columns]"
            ],
            "text/html": [
              "\n",
              "  <div id=\"df-912c3442-bf28-4f8f-9a89-e9024fca7301\">\n",
              "    <div class=\"colab-df-container\">\n",
              "      <div>\n",
              "<style scoped>\n",
              "    .dataframe tbody tr th:only-of-type {\n",
              "        vertical-align: middle;\n",
              "    }\n",
              "\n",
              "    .dataframe tbody tr th {\n",
              "        vertical-align: top;\n",
              "    }\n",
              "\n",
              "    .dataframe thead th {\n",
              "        text-align: right;\n",
              "    }\n",
              "</style>\n",
              "<table border=\"1\" class=\"dataframe\">\n",
              "  <thead>\n",
              "    <tr style=\"text-align: right;\">\n",
              "      <th></th>\n",
              "      <th>0</th>\n",
              "      <th>1</th>\n",
              "      <th>2</th>\n",
              "      <th>3</th>\n",
              "      <th>4</th>\n",
              "      <th>5</th>\n",
              "      <th>6</th>\n",
              "    </tr>\n",
              "  </thead>\n",
              "  <tbody>\n",
              "    <tr>\n",
              "      <th>0</th>\n",
              "      <td>247.063748</td>\n",
              "      <td>484.022610</td>\n",
              "      <td>365.140391</td>\n",
              "      <td>-676.494257</td>\n",
              "      <td>-573.387844</td>\n",
              "      <td>-1613.958071</td>\n",
              "      <td>18916.513814</td>\n",
              "    </tr>\n",
              "    <tr>\n",
              "      <th>1</th>\n",
              "      <td>246.719528</td>\n",
              "      <td>488.145857</td>\n",
              "      <td>375.484811</td>\n",
              "      <td>-678.464586</td>\n",
              "      <td>-575.396567</td>\n",
              "      <td>-1614.639246</td>\n",
              "      <td>18916.849421</td>\n",
              "    </tr>\n",
              "    <tr>\n",
              "      <th>2</th>\n",
              "      <td>67.356107</td>\n",
              "      <td>412.146762</td>\n",
              "      <td>381.719293</td>\n",
              "      <td>-679.618014</td>\n",
              "      <td>-577.050153</td>\n",
              "      <td>-1615.320070</td>\n",
              "      <td>18917.266075</td>\n",
              "    </tr>\n",
              "    <tr>\n",
              "      <th>3</th>\n",
              "      <td>-195.989752</td>\n",
              "      <td>282.907289</td>\n",
              "      <td>383.699722</td>\n",
              "      <td>-679.938564</td>\n",
              "      <td>-578.342546</td>\n",
              "      <td>-1616.000535</td>\n",
              "      <td>18917.763995</td>\n",
              "    </tr>\n",
              "    <tr>\n",
              "      <th>4</th>\n",
              "      <td>-215.305631</td>\n",
              "      <td>137.515514</td>\n",
              "      <td>381.310872</td>\n",
              "      <td>-679.415356</td>\n",
              "      <td>-579.268164</td>\n",
              "      <td>-1616.680634</td>\n",
              "      <td>18918.343398</td>\n",
              "    </tr>\n",
              "    <tr>\n",
              "      <th>...</th>\n",
              "      <td>...</td>\n",
              "      <td>...</td>\n",
              "      <td>...</td>\n",
              "      <td>...</td>\n",
              "      <td>...</td>\n",
              "      <td>...</td>\n",
              "      <td>...</td>\n",
              "    </tr>\n",
              "    <tr>\n",
              "      <th>1196</th>\n",
              "      <td>134.097863</td>\n",
              "      <td>276.326118</td>\n",
              "      <td>-206.945851</td>\n",
              "      <td>-206.307790</td>\n",
              "      <td>577.292360</td>\n",
              "      <td>4538.689536</td>\n",
              "      <td>29280.847763</td>\n",
              "    </tr>\n",
              "    <tr>\n",
              "      <th>1197</th>\n",
              "      <td>-31.559580</td>\n",
              "      <td>394.918835</td>\n",
              "      <td>-237.552213</td>\n",
              "      <td>-208.128082</td>\n",
              "      <td>575.321918</td>\n",
              "      <td>4537.203523</td>\n",
              "      <td>29282.295599</td>\n",
              "    </tr>\n",
              "    <tr>\n",
              "      <th>1198</th>\n",
              "      <td>-100.780954</td>\n",
              "      <td>500.869435</td>\n",
              "      <td>-259.450830</td>\n",
              "      <td>-208.218099</td>\n",
              "      <td>572.323205</td>\n",
              "      <td>4534.722105</td>\n",
              "      <td>29283.636699</td>\n",
              "    </tr>\n",
              "    <tr>\n",
              "      <th>1199</th>\n",
              "      <td>9.258520</td>\n",
              "      <td>548.572307</td>\n",
              "      <td>-271.160538</td>\n",
              "      <td>-206.495707</td>\n",
              "      <td>568.299523</td>\n",
              "      <td>4531.256020</td>\n",
              "      <td>29284.871436</td>\n",
              "    </tr>\n",
              "    <tr>\n",
              "      <th>1200</th>\n",
              "      <td>90.451060</td>\n",
              "      <td>537.451607</td>\n",
              "      <td>-271.688458</td>\n",
              "      <td>-202.913507</td>\n",
              "      <td>563.281543</td>\n",
              "      <td>4526.816007</td>\n",
              "      <td>29286.000186</td>\n",
              "    </tr>\n",
              "  </tbody>\n",
              "</table>\n",
              "<p>1201 rows × 7 columns</p>\n",
              "</div>\n",
              "      <button class=\"colab-df-convert\" onclick=\"convertToInteractive('df-912c3442-bf28-4f8f-9a89-e9024fca7301')\"\n",
              "              title=\"Convert this dataframe to an interactive table.\"\n",
              "              style=\"display:none;\">\n",
              "        \n",
              "  <svg xmlns=\"http://www.w3.org/2000/svg\" height=\"24px\"viewBox=\"0 0 24 24\"\n",
              "       width=\"24px\">\n",
              "    <path d=\"M0 0h24v24H0V0z\" fill=\"none\"/>\n",
              "    <path d=\"M18.56 5.44l.94 2.06.94-2.06 2.06-.94-2.06-.94-.94-2.06-.94 2.06-2.06.94zm-11 1L8.5 8.5l.94-2.06 2.06-.94-2.06-.94L8.5 2.5l-.94 2.06-2.06.94zm10 10l.94 2.06.94-2.06 2.06-.94-2.06-.94-.94-2.06-.94 2.06-2.06.94z\"/><path d=\"M17.41 7.96l-1.37-1.37c-.4-.4-.92-.59-1.43-.59-.52 0-1.04.2-1.43.59L10.3 9.45l-7.72 7.72c-.78.78-.78 2.05 0 2.83L4 21.41c.39.39.9.59 1.41.59.51 0 1.02-.2 1.41-.59l7.78-7.78 2.81-2.81c.8-.78.8-2.07 0-2.86zM5.41 20L4 18.59l7.72-7.72 1.47 1.35L5.41 20z\"/>\n",
              "  </svg>\n",
              "      </button>\n",
              "      \n",
              "  <style>\n",
              "    .colab-df-container {\n",
              "      display:flex;\n",
              "      flex-wrap:wrap;\n",
              "      gap: 12px;\n",
              "    }\n",
              "\n",
              "    .colab-df-convert {\n",
              "      background-color: #E8F0FE;\n",
              "      border: none;\n",
              "      border-radius: 50%;\n",
              "      cursor: pointer;\n",
              "      display: none;\n",
              "      fill: #1967D2;\n",
              "      height: 32px;\n",
              "      padding: 0 0 0 0;\n",
              "      width: 32px;\n",
              "    }\n",
              "\n",
              "    .colab-df-convert:hover {\n",
              "      background-color: #E2EBFA;\n",
              "      box-shadow: 0px 1px 2px rgba(60, 64, 67, 0.3), 0px 1px 3px 1px rgba(60, 64, 67, 0.15);\n",
              "      fill: #174EA6;\n",
              "    }\n",
              "\n",
              "    [theme=dark] .colab-df-convert {\n",
              "      background-color: #3B4455;\n",
              "      fill: #D2E3FC;\n",
              "    }\n",
              "\n",
              "    [theme=dark] .colab-df-convert:hover {\n",
              "      background-color: #434B5C;\n",
              "      box-shadow: 0px 1px 3px 1px rgba(0, 0, 0, 0.15);\n",
              "      filter: drop-shadow(0px 1px 2px rgba(0, 0, 0, 0.3));\n",
              "      fill: #FFFFFF;\n",
              "    }\n",
              "  </style>\n",
              "\n",
              "      <script>\n",
              "        const buttonEl =\n",
              "          document.querySelector('#df-912c3442-bf28-4f8f-9a89-e9024fca7301 button.colab-df-convert');\n",
              "        buttonEl.style.display =\n",
              "          google.colab.kernel.accessAllowed ? 'block' : 'none';\n",
              "\n",
              "        async function convertToInteractive(key) {\n",
              "          const element = document.querySelector('#df-912c3442-bf28-4f8f-9a89-e9024fca7301');\n",
              "          const dataTable =\n",
              "            await google.colab.kernel.invokeFunction('convertToInteractive',\n",
              "                                                     [key], {});\n",
              "          if (!dataTable) return;\n",
              "\n",
              "          const docLinkHtml = 'Like what you see? Visit the ' +\n",
              "            '<a target=\"_blank\" href=https://colab.research.google.com/notebooks/data_table.ipynb>data table notebook</a>'\n",
              "            + ' to learn more about interactive tables.';\n",
              "          element.innerHTML = '';\n",
              "          dataTable['output_type'] = 'display_data';\n",
              "          await google.colab.output.renderOutput(dataTable, element);\n",
              "          const docLink = document.createElement('div');\n",
              "          docLink.innerHTML = docLinkHtml;\n",
              "          element.appendChild(docLink);\n",
              "        }\n",
              "      </script>\n",
              "    </div>\n",
              "  </div>\n",
              "  "
            ]
          },
          "metadata": {},
          "execution_count": 145
        }
      ]
    },
    {
      "cell_type": "code",
      "source": [
        "df1.drop([0,1,2],axis=1,inplace=True)"
      ],
      "metadata": {
        "id": "j67lzhjh98ci"
      },
      "execution_count": null,
      "outputs": []
    },
    {
      "cell_type": "code",
      "source": [
        "plt.plot(x)\n",
        "plt.plot(z)"
      ],
      "metadata": {
        "colab": {
          "base_uri": "https://localhost:8080/",
          "height": 281
        },
        "id": "caYJ-VHUewZg",
        "outputId": "83efd8b6-c3d3-4c51-d219-403125968511"
      },
      "execution_count": null,
      "outputs": [
        {
          "output_type": "execute_result",
          "data": {
            "text/plain": [
              "[<matplotlib.lines.Line2D at 0x7f86e633ba50>]"
            ]
          },
          "metadata": {},
          "execution_count": 179
        },
        {
          "output_type": "display_data",
          "data": {
            "text/plain": [
              "<Figure size 432x288 with 1 Axes>"
            ],
            "image/png": "[encoded data removed]"
          },
          "metadata": {
            "needs_background": "light"
          }
        }
      ]
    },
    {
      "cell_type": "code",
      "source": [
        "z=df1[6]+df1[5]+df1[4]+df1[3]"
      ],
      "metadata": {
        "id": "2oF7oebIe_kj"
      },
      "execution_count": null,
      "outputs": []
    },
    {
      "cell_type": "code",
      "source": [
        "df1[7]=z"
      ],
      "metadata": {
        "id": "Xa8-XkvT-NT3"
      },
      "execution_count": null,
      "outputs": []
    },
    {
      "cell_type": "code",
      "source": [
        "df1"
      ],
      "metadata": {
        "colab": {
          "base_uri": "https://localhost:8080/",
          "height": 411
        },
        "id": "DvyFgkEkmnMc",
        "outputId": "60b7f471-d5d5-4275-b925-cd2b79149bad"
      },
      "execution_count": null,
      "outputs": [
        {
          "output_type": "execute_result",
          "data": {
            "text/plain": [
              "               3           4            5             6\n",
              "0    -676.494257 -573.387844 -1613.958071  18916.513814\n",
              "1    -678.464586 -575.396567 -1614.639246  18916.849421\n",
              "2    -679.618014 -577.050153 -1615.320070  18917.266075\n",
              "3    -679.938564 -578.342546 -1616.000535  18917.763995\n",
              "4    -679.415356 -579.268164 -1616.680634  18918.343398\n",
              "...          ...         ...          ...           ...\n",
              "1196 -206.307790  577.292360  4538.689536  29280.847763\n",
              "1197 -208.128082  575.321918  4537.203523  29282.295599\n",
              "1198 -208.218099  572.323205  4534.722105  29283.636699\n",
              "1199 -206.495707  568.299523  4531.256020  29284.871436\n",
              "1200 -202.913507  563.281543  4526.816007  29286.000186\n",
              "\n",
              "[1201 rows x 4 columns]"
            ],
            "text/html": [
              "\n",
              "  <div id=\"df-549bcddc-149a-4dd8-840e-3a37ef0ac440\">\n",
              "    <div class=\"colab-df-container\">\n",
              "      <div>\n",
              "<style scoped>\n",
              "    .dataframe tbody tr th:only-of-type {\n",
              "        vertical-align: middle;\n",
              "    }\n",
              "\n",
              "    .dataframe tbody tr th {\n",
              "        vertical-align: top;\n",
              "    }\n",
              "\n",
              "    .dataframe thead th {\n",
              "        text-align: right;\n",
              "    }\n",
              "</style>\n",
              "<table border=\"1\" class=\"dataframe\">\n",
              "  <thead>\n",
              "    <tr style=\"text-align: right;\">\n",
              "      <th></th>\n",
              "      <th>3</th>\n",
              "      <th>4</th>\n",
              "      <th>5</th>\n",
              "      <th>6</th>\n",
              "    </tr>\n",
              "  </thead>\n",
              "  <tbody>\n",
              "    <tr>\n",
              "      <th>0</th>\n",
              "      <td>-676.494257</td>\n",
              "      <td>-573.387844</td>\n",
              "      <td>-1613.958071</td>\n",
              "      <td>18916.513814</td>\n",
              "    </tr>\n",
              "    <tr>\n",
              "      <th>1</th>\n",
              "      <td>-678.464586</td>\n",
              "      <td>-575.396567</td>\n",
              "      <td>-1614.639246</td>\n",
              "      <td>18916.849421</td>\n",
              "    </tr>\n",
              "    <tr>\n",
              "      <th>2</th>\n",
              "      <td>-679.618014</td>\n",
              "      <td>-577.050153</td>\n",
              "      <td>-1615.320070</td>\n",
              "      <td>18917.266075</td>\n",
              "    </tr>\n",
              "    <tr>\n",
              "      <th>3</th>\n",
              "      <td>-679.938564</td>\n",
              "      <td>-578.342546</td>\n",
              "      <td>-1616.000535</td>\n",
              "      <td>18917.763995</td>\n",
              "    </tr>\n",
              "    <tr>\n",
              "      <th>4</th>\n",
              "      <td>-679.415356</td>\n",
              "      <td>-579.268164</td>\n",
              "      <td>-1616.680634</td>\n",
              "      <td>18918.343398</td>\n",
              "    </tr>\n",
              "    <tr>\n",
              "      <th>...</th>\n",
              "      <td>...</td>\n",
              "      <td>...</td>\n",
              "      <td>...</td>\n",
              "      <td>...</td>\n",
              "    </tr>\n",
              "    <tr>\n",
              "      <th>1196</th>\n",
              "      <td>-206.307790</td>\n",
              "      <td>577.292360</td>\n",
              "      <td>4538.689536</td>\n",
              "      <td>29280.847763</td>\n",
              "    </tr>\n",
              "    <tr>\n",
              "      <th>1197</th>\n",
              "      <td>-208.128082</td>\n",
              "      <td>575.321918</td>\n",
              "      <td>4537.203523</td>\n",
              "      <td>29282.295599</td>\n",
              "    </tr>\n",
              "    <tr>\n",
              "      <th>1198</th>\n",
              "      <td>-208.218099</td>\n",
              "      <td>572.323205</td>\n",
              "      <td>4534.722105</td>\n",
              "      <td>29283.636699</td>\n",
              "    </tr>\n",
              "    <tr>\n",
              "      <th>1199</th>\n",
              "      <td>-206.495707</td>\n",
              "      <td>568.299523</td>\n",
              "      <td>4531.256020</td>\n",
              "      <td>29284.871436</td>\n",
              "    </tr>\n",
              "    <tr>\n",
              "      <th>1200</th>\n",
              "      <td>-202.913507</td>\n",
              "      <td>563.281543</td>\n",
              "      <td>4526.816007</td>\n",
              "      <td>29286.000186</td>\n",
              "    </tr>\n",
              "  </tbody>\n",
              "</table>\n",
              "<p>1201 rows × 4 columns</p>\n",
              "</div>\n",
              "      <button class=\"colab-df-convert\" onclick=\"convertToInteractive('df-549bcddc-149a-4dd8-840e-3a37ef0ac440')\"\n",
              "              title=\"Convert this dataframe to an interactive table.\"\n",
              "              style=\"display:none;\">\n",
              "        \n",
              "  <svg xmlns=\"http://www.w3.org/2000/svg\" height=\"24px\"viewBox=\"0 0 24 24\"\n",
              "       width=\"24px\">\n",
              "    <path d=\"M0 0h24v24H0V0z\" fill=\"none\"/>\n",
              "    <path d=\"M18.56 5.44l.94 2.06.94-2.06 2.06-.94-2.06-.94-.94-2.06-.94 2.06-2.06.94zm-11 1L8.5 8.5l.94-2.06 2.06-.94-2.06-.94L8.5 2.5l-.94 2.06-2.06.94zm10 10l.94 2.06.94-2.06 2.06-.94-2.06-.94-.94-2.06-.94 2.06-2.06.94z\"/><path d=\"M17.41 7.96l-1.37-1.37c-.4-.4-.92-.59-1.43-.59-.52 0-1.04.2-1.43.59L10.3 9.45l-7.72 7.72c-.78.78-.78 2.05 0 2.83L4 21.41c.39.39.9.59 1.41.59.51 0 1.02-.2 1.41-.59l7.78-7.78 2.81-2.81c.8-.78.8-2.07 0-2.86zM5.41 20L4 18.59l7.72-7.72 1.47 1.35L5.41 20z\"/>\n",
              "  </svg>\n",
              "      </button>\n",
              "      \n",
              "  <style>\n",
              "    .colab-df-container {\n",
              "      display:flex;\n",
              "      flex-wrap:wrap;\n",
              "      gap: 12px;\n",
              "    }\n",
              "\n",
              "    .colab-df-convert {\n",
              "      background-color: #E8F0FE;\n",
              "      border: none;\n",
              "      border-radius: 50%;\n",
              "      cursor: pointer;\n",
              "      display: none;\n",
              "      fill: #1967D2;\n",
              "      height: 32px;\n",
              "      padding: 0 0 0 0;\n",
              "      width: 32px;\n",
              "    }\n",
              "\n",
              "    .colab-df-convert:hover {\n",
              "      background-color: #E2EBFA;\n",
              "      box-shadow: 0px 1px 2px rgba(60, 64, 67, 0.3), 0px 1px 3px 1px rgba(60, 64, 67, 0.15);\n",
              "      fill: #174EA6;\n",
              "    }\n",
              "\n",
              "    [theme=dark] .colab-df-convert {\n",
              "      background-color: #3B4455;\n",
              "      fill: #D2E3FC;\n",
              "    }\n",
              "\n",
              "    [theme=dark] .colab-df-convert:hover {\n",
              "      background-color: #434B5C;\n",
              "      box-shadow: 0px 1px 3px 1px rgba(0, 0, 0, 0.15);\n",
              "      filter: drop-shadow(0px 1px 2px rgba(0, 0, 0, 0.3));\n",
              "      fill: #FFFFFF;\n",
              "    }\n",
              "  </style>\n",
              "\n",
              "      <script>\n",
              "        const buttonEl =\n",
              "          document.querySelector('#df-549bcddc-149a-4dd8-840e-3a37ef0ac440 button.colab-df-convert');\n",
              "        buttonEl.style.display =\n",
              "          google.colab.kernel.accessAllowed ? 'block' : 'none';\n",
              "\n",
              "        async function convertToInteractive(key) {\n",
              "          const element = document.querySelector('#df-549bcddc-149a-4dd8-840e-3a37ef0ac440');\n",
              "          const dataTable =\n",
              "            await google.colab.kernel.invokeFunction('convertToInteractive',\n",
              "                                                     [key], {});\n",
              "          if (!dataTable) return;\n",
              "\n",
              "          const docLinkHtml = 'Like what you see? Visit the ' +\n",
              "            '<a target=\"_blank\" href=https://colab.research.google.com/notebooks/data_table.ipynb>data table notebook</a>'\n",
              "            + ' to learn more about interactive tables.';\n",
              "          element.innerHTML = '';\n",
              "          dataTable['output_type'] = 'display_data';\n",
              "          await google.colab.output.renderOutput(dataTable, element);\n",
              "          const docLink = document.createElement('div');\n",
              "          docLink.innerHTML = docLinkHtml;\n",
              "          element.appendChild(docLink);\n",
              "        }\n",
              "      </script>\n",
              "    </div>\n",
              "  </div>\n",
              "  "
            ]
          },
          "metadata": {},
          "execution_count": 193
        }
      ]
    },
    {
      "cell_type": "code",
      "source": [
        "df1.to_csv('EDM_data.csv',header=False,index=False)"
      ],
      "metadata": {
        "id": "1U8IRV1M5OKk"
      },
      "execution_count": null,
      "outputs": []
    },
    {
      "cell_type": "code",
      "source": [
        "t=df1.sum(axis=1)"
      ],
      "metadata": {
        "id": "B1PJY8pF5Z0H"
      },
      "execution_count": null,
      "outputs": []
    },
    {
      "cell_type": "code",
      "source": [
        "cd StemGNN"
      ],
      "metadata": {
        "colab": {
          "base_uri": "https://localhost:8080/"
        },
        "id": "EuRl-X5tmqNx",
        "outputId": "44eebc33-9bd0-4d10-aa56-0b3892816bdd"
      },
      "execution_count": null,
      "outputs": [
        {
          "output_type": "stream",
          "name": "stdout",
          "text": [
            "/content/StemGNN\n"
          ]
        }
      ]
    },
    {
      "cell_type": "code",
      "source": [
        "cd .."
      ],
      "metadata": {
        "colab": {
          "base_uri": "https://localhost:8080/"
        },
        "id": "B4cEUxjCB4q3",
        "outputId": "1cf516f1-3ae6-4116-f41b-eea1b8febe59"
      },
      "execution_count": null,
      "outputs": [
        {
          "output_type": "stream",
          "name": "stdout",
          "text": [
            "/content/StemGNN\n"
          ]
        }
      ]
    },
    {
      "cell_type": "code",
      "source": [
        "z=df1.iloc[:,-1]+df1.iloc[:,-2]+df1.iloc[:,-3]"
      ],
      "metadata": {
        "id": "SSHv0GDLInDO"
      },
      "execution_count": null,
      "outputs": []
    },
    {
      "cell_type": "code",
      "source": [
        "z"
      ],
      "metadata": {
        "colab": {
          "base_uri": "https://localhost:8080/"
        },
        "id": "9Vo5AgCfItUK",
        "outputId": "ecf6f1aa-00d1-426b-96e2-2d0aa19de63d"
      },
      "execution_count": null,
      "outputs": [
        {
          "output_type": "execute_result",
          "data": {
            "text/plain": [
              "0       16729.167899\n",
              "1       16726.813608\n",
              "2       16724.895852\n",
              "3       16723.420914\n",
              "4       16722.394601\n",
              "            ...     \n",
              "1196    34396.829659\n",
              "1197    34394.821040\n",
              "1198    34390.682009\n",
              "1199    34384.426980\n",
              "1200    34376.097736\n",
              "Length: 1201, dtype: float64"
            ]
          },
          "metadata": {},
          "execution_count": 153
        }
      ]
    },
    {
      "cell_type": "code",
      "source": [
        "z=np.array(z)"
      ],
      "metadata": {
        "id": "75zSjTn5IpMd"
      },
      "execution_count": null,
      "outputs": []
    },
    {
      "cell_type": "code",
      "source": [
        "plt.plot(x)\n",
        "plt.plot(z)"
      ],
      "metadata": {
        "colab": {
          "base_uri": "https://localhost:8080/",
          "height": 302
        },
        "id": "yYTqIkt5B2zP",
        "outputId": "ccd043fa-bbf6-448b-db38-6e09c73097b7"
      },
      "execution_count": null,
      "outputs": [
        {
          "output_type": "execute_result",
          "data": {
            "text/plain": [
              "[<matplotlib.lines.Line2D at 0x7f6bde373650>]"
            ]
          },
          "metadata": {},
          "execution_count": 155
        },
        {
          "output_type": "display_data",
          "data": {
            "text/plain": [
              "<Figure size 432x288 with 1 Axes>"
            ],
            "image/png": "[encoded data removed]"
          },
          "metadata": {
            "needs_background": "light"
          }
        }
      ]
    },
    {
      "cell_type": "code",
      "source": [
        "! python main.py"
      ],
      "metadata": {
        "id": "nQ2zMgcXIaLZ",
        "colab": {
          "base_uri": "https://localhost:8080/"
        },
        "outputId": "824677c7-ef86-47bf-d350-78491f12bfe1"
      },
      "execution_count": null,
      "outputs": [
        {
          "output_type": "stream",
          "name": "stdout",
          "text": [
            "Training configs: Namespace(batch_size=32, dataset='EDM_data', decay_rate=0.5, device='cpu', dropout_rate=0.5, early_stop=False, epoch=20, evaluate=True, exponential_decay_step=5, horizon=1, leakyrelu_rate=0.2, lr=0.001, multi_layer=7, norm_method='z_score', optimizer='Adam', test_length=2, train=True, train_length=8, valid_length=1, validate_freq=1, window_size=32)\n",
            "Total Trainable Params: 17118406\n",
            "/content/StemGNN/models/base_model.py:49: UserWarning: The function torch.rfft is deprecated and will be removed in a future PyTorch release. Use the new torch.fft module functions, instead, by importing torch.fft and calling torch.fft.fft or torch.fft.rfft. (Triggered internally at  /pytorch/aten/src/ATen/native/SpectralOps.cpp:590.)\n",
            "  ffted = torch.rfft(input, 1, onesided=False)\n",
            "/content/StemGNN/models/base_model.py:58: UserWarning: The function torch.irfft is deprecated and will be removed in a future PyTorch release. Use the new torch.fft module functions, instead, by importing torch.fft and calling torch.fft.ifft or torch.fft.irfft. (Triggered internally at  /pytorch/aten/src/ATen/native/SpectralOps.cpp:602.)\n",
            "  iffted = torch.irfft(time_step_as_inner, 1, onesided=False)\n",
            "| end of epoch   0 | time: 18.99s | train_total_loss 0.4239\n",
            "------ validate on data: VALIDATE ------\n",
            "NORM: MAPE 101.664296780%; MAE 0.864221323; RMSE 1.085430045.\n",
            "RAW : MAPE 81.210383958%; MAE 1067.267994373; RMSE 1339.805006244.\n",
            "| end of epoch   1 | time: 16.29s | train_total_loss 0.2731\n",
            "------ validate on data: VALIDATE ------\n",
            "NORM: MAPE 84.225013168%; MAE 0.781888894; RMSE 1.028116378.\n",
            "RAW : MAPE 67.847495498%; MAE 919.376029784; RMSE 1161.790979103.\n",
            "| end of epoch   2 | time: 14.90s | train_total_loss 0.1890\n",
            "------ validate on data: VALIDATE ------\n",
            "NORM: MAPE 82.138269882%; MAE 0.785697839; RMSE 1.047737550.\n",
            "RAW : MAPE 68.045254567%; MAE 899.913841549; RMSE 1144.011187885.\n",
            "| end of epoch   3 | time: 14.50s | train_total_loss 0.1624\n",
            "------ validate on data: VALIDATE ------\n",
            "NORM: MAPE 90.061620392%; MAE 0.783190853; RMSE 1.046965067.\n",
            "RAW : MAPE 76.129770035%; MAE 843.860308753; RMSE 1053.472039346.\n"
          ]
        }
      ]
    },
    {
      "cell_type": "code",
      "source": [
        "cd output"
      ],
      "metadata": {
        "colab": {
          "base_uri": "https://localhost:8080/"
        },
        "id": "svrzDRzpfjSS",
        "outputId": "f3f04982-a2da-4452-cd7e-21461335bbde"
      },
      "execution_count": null,
      "outputs": [
        {
          "output_type": "stream",
          "name": "stdout",
          "text": [
            "/content/StemGNN/output\n"
          ]
        }
      ]
    },
    {
      "cell_type": "code",
      "source": [
        "cd EDM_data"
      ],
      "metadata": {
        "colab": {
          "base_uri": "https://localhost:8080/"
        },
        "id": "H4rPjyHrgGe3",
        "outputId": "d5dd28a2-44e8-40a8-b52f-0f68dc2374ab"
      },
      "execution_count": null,
      "outputs": [
        {
          "output_type": "stream",
          "name": "stdout",
          "text": [
            "/content/StemGNN/output/EDM_data\n"
          ]
        }
      ]
    },
    {
      "cell_type": "code",
      "source": [
        "cd test"
      ],
      "metadata": {
        "colab": {
          "base_uri": "https://localhost:8080/"
        },
        "id": "BbL_9HtegIB6",
        "outputId": "65d2bf5f-40ff-4dbd-d2f9-faa14ec19353"
      },
      "execution_count": null,
      "outputs": [
        {
          "output_type": "stream",
          "name": "stdout",
          "text": [
            "/content/StemGNN/output/EDM_data/test\n"
          ]
        }
      ]
    },
    {
      "cell_type": "code",
      "source": [
        "cd .."
      ],
      "metadata": {
        "id": "lvtIbuk1gI9e",
        "colab": {
          "base_uri": "https://localhost:8080/"
        },
        "outputId": "b2d5ecf0-3f0f-421a-c429-8121f1d195a0"
      },
      "execution_count": null,
      "outputs": [
        {
          "output_type": "stream",
          "name": "stdout",
          "text": [
            "/content/StemGNN/output\n"
          ]
        }
      ]
    },
    {
      "cell_type": "code",
      "source": [
        ""
      ],
      "metadata": {
        "id": "JmGEZfK8Zbmw"
      },
      "execution_count": null,
      "outputs": []
    }
  ],
  "metadata": {
    "colab": {
      "collapsed_sections": [],
      "name": "WT+StemGNN.ipynb",
      "provenance": []
    },
    "kernelspec": {
      "display_name": "Python 3",
      "name": "python3"
    },
    "language_info": {
      "name": "python"
    },
    "accelerator": "GPU"
  },
  "nbformat": 4,
  "nbformat_minor": 0
}